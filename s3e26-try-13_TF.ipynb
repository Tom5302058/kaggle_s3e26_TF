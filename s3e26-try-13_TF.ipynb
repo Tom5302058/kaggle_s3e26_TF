{
 "cells": [
  {
   "cell_type": "code",
   "execution_count": 1,
   "id": "afe032ec",
   "metadata": {
    "_cell_guid": "b1076dfc-b9ad-4769-8c92-a6c4dae69d19",
    "_uuid": "8f2839f25d086af736a60e9eeb907d3b93b6e0e5",
    "execution": {
     "iopub.execute_input": "2023-12-30T20:07:45.087870Z",
     "iopub.status.busy": "2023-12-30T20:07:45.087500Z",
     "iopub.status.idle": "2023-12-30T20:07:45.513507Z",
     "shell.execute_reply": "2023-12-30T20:07:45.512012Z"
    },
    "papermill": {
     "duration": 0.448445,
     "end_time": "2023-12-30T20:07:45.517135",
     "exception": false,
     "start_time": "2023-12-30T20:07:45.068690",
     "status": "completed"
    },
    "tags": []
   },
   "outputs": [
    {
     "name": "stdout",
     "output_type": "stream",
     "text": [
      "/kaggle/input/playground-series-s3e26/sample_submission.csv\n",
      "/kaggle/input/playground-series-s3e26/train.csv\n",
      "/kaggle/input/playground-series-s3e26/test.csv\n"
     ]
    }
   ],
   "source": [
    "##### This Python 3 environment comes with many helpful analytics libraries installed\n",
    "# It is defined by the kaggle/python Docker image: https://github.com/kaggle/docker-python\n",
    "# For example, here's several helpful packages to load\n",
    "\n",
    "import numpy as np # linear algebra\n",
    "import pandas as pd # data processing, CSV file I/O (e.g. pd.read_csv)\n",
    "\n",
    "# Input data files are available in the read-only \"../input/\" directory\n",
    "# For example, running this (by clicking run or pressing Shift+Enter) will list all files under the input directory\n",
    "\n",
    "import os\n",
    "for dirname, _, filenames in os.walk('/kaggle/input'):\n",
    "    for filename in filenames:\n",
    "        print(os.path.join(dirname, filename))\n",
    "\n",
    "# You can write up to 20GB to the current directory (/kaggle/working/) that gets preserved as output when you create a version using \"Save & Run All\" \n",
    "# You can also write temporary files to /kaggle/temp/, but they won't be saved outside of the current session"
   ]
  },
  {
   "cell_type": "code",
   "execution_count": 2,
   "id": "5d6f76f8",
   "metadata": {
    "execution": {
     "iopub.execute_input": "2023-12-30T20:07:45.554523Z",
     "iopub.status.busy": "2023-12-30T20:07:45.553988Z",
     "iopub.status.idle": "2023-12-30T20:07:45.559383Z",
     "shell.execute_reply": "2023-12-30T20:07:45.558315Z"
    },
    "papermill": {
     "duration": 0.026688,
     "end_time": "2023-12-30T20:07:45.561829",
     "exception": false,
     "start_time": "2023-12-30T20:07:45.535141",
     "status": "completed"
    },
    "tags": []
   },
   "outputs": [],
   "source": [
    "CONFIG = {'title':'S3E26_try_13'\\\n",
    "         , 'DCRP':'Stacking'}"
   ]
  },
  {
   "cell_type": "markdown",
   "id": "9f51abfe",
   "metadata": {
    "papermill": {
     "duration": 0.01668,
     "end_time": "2023-12-30T20:07:45.595497",
     "exception": false,
     "start_time": "2023-12-30T20:07:45.578817",
     "status": "completed"
    },
    "tags": []
   },
   "source": [
    "## import"
   ]
  },
  {
   "cell_type": "code",
   "execution_count": 3,
   "id": "ff5d3a6b",
   "metadata": {
    "execution": {
     "iopub.execute_input": "2023-12-30T20:07:45.631637Z",
     "iopub.status.busy": "2023-12-30T20:07:45.630994Z",
     "iopub.status.idle": "2023-12-30T20:07:46.877675Z",
     "shell.execute_reply": "2023-12-30T20:07:46.876649Z"
    },
    "papermill": {
     "duration": 1.26797,
     "end_time": "2023-12-30T20:07:46.880457",
     "exception": false,
     "start_time": "2023-12-30T20:07:45.612487",
     "status": "completed"
    },
    "tags": []
   },
   "outputs": [],
   "source": [
    "import os\n",
    "import re\n",
    "import numpy as np\n",
    "import pandas as pd\n",
    "import matplotlib.pyplot as plt\n",
    "import seaborn as sns\n",
    "from scipy.stats.distributions import uniform\n",
    "from scipy.special import softmax"
   ]
  },
  {
   "cell_type": "code",
   "execution_count": 4,
   "id": "c5859a5d",
   "metadata": {
    "execution": {
     "iopub.execute_input": "2023-12-30T20:07:46.916437Z",
     "iopub.status.busy": "2023-12-30T20:07:46.916070Z",
     "iopub.status.idle": "2023-12-30T20:07:47.464519Z",
     "shell.execute_reply": "2023-12-30T20:07:47.463579Z"
    },
    "papermill": {
     "duration": 0.569538,
     "end_time": "2023-12-30T20:07:47.467227",
     "exception": false,
     "start_time": "2023-12-30T20:07:46.897689",
     "status": "completed"
    },
    "tags": []
   },
   "outputs": [],
   "source": [
    "from sklearn.model_selection import train_test_split\n",
    "from sklearn.model_selection import StratifiedKFold\n",
    "from sklearn.model_selection import GridSearchCV\n",
    "from sklearn.model_selection import RandomizedSearchCV\n",
    "from sklearn.preprocessing import StandardScaler\n",
    "from sklearn.preprocessing import LabelEncoder\n",
    "from sklearn.preprocessing import PolynomialFeatures\n",
    "from sklearn.svm import SVC\n",
    "from sklearn.tree import DecisionTreeClassifier as DTC\n",
    "from sklearn.ensemble import RandomForestClassifier as RFC\n",
    "from sklearn.linear_model import SGDClassifier as SGD\n",
    "from sklearn.linear_model import LogisticRegression as LR\n",
    "from sklearn.multiclass import OneVsRestClassifier\n",
    "from sklearn.multiclass import OneVsOneClassifier\n",
    "from sklearn.metrics import accuracy_score\n"
   ]
  },
  {
   "cell_type": "code",
   "execution_count": 5,
   "id": "caec1314",
   "metadata": {
    "execution": {
     "iopub.execute_input": "2023-12-30T20:07:47.504293Z",
     "iopub.status.busy": "2023-12-30T20:07:47.503860Z",
     "iopub.status.idle": "2023-12-30T20:08:22.328631Z",
     "shell.execute_reply": "2023-12-30T20:08:22.327522Z"
    },
    "papermill": {
     "duration": 34.846313,
     "end_time": "2023-12-30T20:08:22.331458",
     "exception": false,
     "start_time": "2023-12-30T20:07:47.485145",
     "status": "completed"
    },
    "tags": []
   },
   "outputs": [
    {
     "name": "stdout",
     "output_type": "stream",
     "text": [
      "Requirement already satisfied: optuna in /opt/conda/lib/python3.10/site-packages (3.5.0)\r\n",
      "Requirement already satisfied: alembic>=1.5.0 in /opt/conda/lib/python3.10/site-packages (from optuna) (1.13.0)\r\n",
      "Requirement already satisfied: colorlog in /opt/conda/lib/python3.10/site-packages (from optuna) (6.8.0)\r\n",
      "Requirement already satisfied: numpy in /opt/conda/lib/python3.10/site-packages (from optuna) (1.24.3)\r\n",
      "Requirement already satisfied: packaging>=20.0 in /opt/conda/lib/python3.10/site-packages (from optuna) (21.3)\r\n",
      "Requirement already satisfied: sqlalchemy>=1.3.0 in /opt/conda/lib/python3.10/site-packages (from optuna) (2.0.20)\r\n",
      "Requirement already satisfied: tqdm in /opt/conda/lib/python3.10/site-packages (from optuna) (4.66.1)\r\n",
      "Requirement already satisfied: PyYAML in /opt/conda/lib/python3.10/site-packages (from optuna) (6.0.1)\r\n",
      "Requirement already satisfied: Mako in /opt/conda/lib/python3.10/site-packages (from alembic>=1.5.0->optuna) (1.3.0)\r\n",
      "Requirement already satisfied: typing-extensions>=4 in /opt/conda/lib/python3.10/site-packages (from alembic>=1.5.0->optuna) (4.5.0)\r\n",
      "Requirement already satisfied: pyparsing!=3.0.5,>=2.0.2 in /opt/conda/lib/python3.10/site-packages (from packaging>=20.0->optuna) (3.0.9)\r\n",
      "Requirement already satisfied: greenlet!=0.4.17 in /opt/conda/lib/python3.10/site-packages (from sqlalchemy>=1.3.0->optuna) (2.0.2)\r\n",
      "Requirement already satisfied: MarkupSafe>=0.9.2 in /opt/conda/lib/python3.10/site-packages (from Mako->alembic>=1.5.0->optuna) (2.1.3)\r\n"
     ]
    }
   ],
   "source": [
    "!pip install optuna"
   ]
  },
  {
   "cell_type": "code",
   "execution_count": 6,
   "id": "084726bb",
   "metadata": {
    "execution": {
     "iopub.execute_input": "2023-12-30T20:08:22.369065Z",
     "iopub.status.busy": "2023-12-30T20:08:22.368628Z",
     "iopub.status.idle": "2023-12-30T20:08:24.995192Z",
     "shell.execute_reply": "2023-12-30T20:08:24.994191Z"
    },
    "papermill": {
     "duration": 2.648494,
     "end_time": "2023-12-30T20:08:24.997808",
     "exception": false,
     "start_time": "2023-12-30T20:08:22.349314",
     "status": "completed"
    },
    "tags": []
   },
   "outputs": [],
   "source": [
    "import optuna\n",
    "import lightgbm as lgb\n",
    "from lightgbm import LGBMClassifier as lgbmc"
   ]
  },
  {
   "cell_type": "code",
   "execution_count": 7,
   "id": "289fa06e",
   "metadata": {
    "execution": {
     "iopub.execute_input": "2023-12-30T20:08:25.035789Z",
     "iopub.status.busy": "2023-12-30T20:08:25.035352Z",
     "iopub.status.idle": "2023-12-30T20:08:59.093366Z",
     "shell.execute_reply": "2023-12-30T20:08:59.092114Z"
    },
    "papermill": {
     "duration": 34.080319,
     "end_time": "2023-12-30T20:08:59.096152",
     "exception": false,
     "start_time": "2023-12-30T20:08:25.015833",
     "status": "completed"
    },
    "tags": []
   },
   "outputs": [],
   "source": [
    "!pip install keras-tuner -q"
   ]
  },
  {
   "cell_type": "code",
   "execution_count": 8,
   "id": "e453a1f5",
   "metadata": {
    "execution": {
     "iopub.execute_input": "2023-12-30T20:08:59.133648Z",
     "iopub.status.busy": "2023-12-30T20:08:59.133185Z",
     "iopub.status.idle": "2023-12-30T20:09:12.025787Z",
     "shell.execute_reply": "2023-12-30T20:09:12.024667Z"
    },
    "papermill": {
     "duration": 12.914421,
     "end_time": "2023-12-30T20:09:12.028597",
     "exception": false,
     "start_time": "2023-12-30T20:08:59.114176",
     "status": "completed"
    },
    "tags": []
   },
   "outputs": [],
   "source": [
    "import tensorflow as tf\n",
    "import tensorflow.keras as keras\n",
    "from tensorflow.keras import layers\n",
    "import keras_tuner"
   ]
  },
  {
   "cell_type": "code",
   "execution_count": 9,
   "id": "68a431b0",
   "metadata": {
    "execution": {
     "iopub.execute_input": "2023-12-30T20:09:12.066263Z",
     "iopub.status.busy": "2023-12-30T20:09:12.065418Z",
     "iopub.status.idle": "2023-12-30T20:09:12.191260Z",
     "shell.execute_reply": "2023-12-30T20:09:12.190116Z"
    },
    "papermill": {
     "duration": 0.14738,
     "end_time": "2023-12-30T20:09:12.193942",
     "exception": false,
     "start_time": "2023-12-30T20:09:12.046562",
     "status": "completed"
    },
    "tags": []
   },
   "outputs": [],
   "source": [
    "from imblearn.under_sampling import RandomUnderSampler"
   ]
  },
  {
   "cell_type": "markdown",
   "id": "d0f0622b",
   "metadata": {
    "papermill": {
     "duration": 0.016842,
     "end_time": "2023-12-30T20:09:12.228266",
     "exception": false,
     "start_time": "2023-12-30T20:09:12.211424",
     "status": "completed"
    },
    "tags": []
   },
   "source": [
    "## def"
   ]
  },
  {
   "cell_type": "code",
   "execution_count": 10,
   "id": "299fd199",
   "metadata": {
    "execution": {
     "iopub.execute_input": "2023-12-30T20:09:12.325294Z",
     "iopub.status.busy": "2023-12-30T20:09:12.324417Z",
     "iopub.status.idle": "2023-12-30T20:09:12.332890Z",
     "shell.execute_reply": "2023-12-30T20:09:12.331944Z"
    },
    "papermill": {
     "duration": 0.089251,
     "end_time": "2023-12-30T20:09:12.334850",
     "exception": false,
     "start_time": "2023-12-30T20:09:12.245599",
     "status": "completed"
    },
    "tags": []
   },
   "outputs": [],
   "source": [
    "def func_logloss(df_t0, df_p0):\n",
    "    '''df_t0: Series/Ground_truth, df_p0: DataFrame/Prediction'''\n",
    "#     if type(df_t0)==pd.Series:\n",
    "#         df_t0 = df_t0.to_frame()\n",
    "#     if type(df_p0)==pd.Series:\n",
    "#         df_p0 = df_p0.to_frame()\n",
    "    df_p1 = df_p0.applymap(lambda x:max(min(x,1-1e-15),1e-15))\n",
    "    N = df_t0.shape[0]\n",
    "    p_sum = 0\n",
    "    for ans in df_t0.unique():\n",
    "#         print(ans)\n",
    "        idx_ok = df_t0[df_t0==ans].index\n",
    "    #     print(idx_ok)\n",
    "    #     print(df_p1.loc[idx_ok, ans].transform(np.log))\n",
    "        p_temp = (df_p1.loc[idx_ok, ans].transform(np.log).sum())\n",
    "    #     print(p_temp)\n",
    "        p_sum += p_temp\n",
    "    score = (-1)*p_sum/N\n",
    "    return score"
   ]
  },
  {
   "cell_type": "code",
   "execution_count": 11,
   "id": "75d87747",
   "metadata": {
    "execution": {
     "iopub.execute_input": "2023-12-30T20:09:12.372649Z",
     "iopub.status.busy": "2023-12-30T20:09:12.371883Z",
     "iopub.status.idle": "2023-12-30T20:09:12.378353Z",
     "shell.execute_reply": "2023-12-30T20:09:12.377636Z"
    },
    "papermill": {
     "duration": 0.027608,
     "end_time": "2023-12-30T20:09:12.380455",
     "exception": false,
     "start_time": "2023-12-30T20:09:12.352847",
     "status": "completed"
    },
    "tags": []
   },
   "outputs": [],
   "source": [
    "def func_result(df_t0, df_p0):\n",
    "    df_t1 = df_t0.rename('y')\n",
    "    df_p1 = df_p0.apply(lambda x: np.argmax(x),axis='columns').rename('p')\n",
    "    df_s0 = pd.concat([df_t1,df_p1],axis='columns')\n",
    "    df_s1 = df_s0.apply(lambda x:x[0]==x[1],axis='columns').value_counts()\n",
    "    print(df_s1)\n",
    "    print('{:.03}'.format(df_s1[0]/(df_s1[0]+df_s1[1])))   "
   ]
  },
  {
   "cell_type": "markdown",
   "id": "aeabb7b1",
   "metadata": {
    "papermill": {
     "duration": 0.0173,
     "end_time": "2023-12-30T20:09:12.416113",
     "exception": false,
     "start_time": "2023-12-30T20:09:12.398813",
     "status": "completed"
    },
    "tags": []
   },
   "source": [
    "## Data"
   ]
  },
  {
   "cell_type": "code",
   "execution_count": 12,
   "id": "d4bf025a",
   "metadata": {
    "execution": {
     "iopub.execute_input": "2023-12-30T20:09:12.453644Z",
     "iopub.status.busy": "2023-12-30T20:09:12.452542Z",
     "iopub.status.idle": "2023-12-30T20:09:12.536995Z",
     "shell.execute_reply": "2023-12-30T20:09:12.535872Z"
    },
    "papermill": {
     "duration": 0.105629,
     "end_time": "2023-12-30T20:09:12.539432",
     "exception": false,
     "start_time": "2023-12-30T20:09:12.433803",
     "status": "completed"
    },
    "tags": []
   },
   "outputs": [
    {
     "data": {
      "text/plain": [
       "array(['N_Days', 'Drug', 'Age', 'Sex', 'Ascites', 'Hepatomegaly',\n",
       "       'Spiders', 'Edema', 'Bilirubin', 'Cholesterol', 'Albumin',\n",
       "       'Copper', 'Alk_Phos', 'SGOT', 'Tryglicerides', 'Platelets',\n",
       "       'Prothrombin', 'Stage', 'Status'], dtype='<U13')"
      ]
     },
     "execution_count": 12,
     "metadata": {},
     "output_type": "execute_result"
    }
   ],
   "source": [
    "train = pd.read_csv(os.path.join(dirname,'train.csv')).set_index('id')\n",
    "test = pd.read_csv(os.path.join(dirname,'test.csv')).set_index('id')\n",
    "lst_cols =  train.columns.to_list()\n",
    "np.array(lst_cols)"
   ]
  },
  {
   "cell_type": "markdown",
   "id": "ca47a0af",
   "metadata": {
    "papermill": {
     "duration": 0.01753,
     "end_time": "2023-12-30T20:09:12.574992",
     "exception": false,
     "start_time": "2023-12-30T20:09:12.557462",
     "status": "completed"
    },
    "tags": []
   },
   "source": [
    "## Preprocess phase 0"
   ]
  },
  {
   "cell_type": "code",
   "execution_count": 13,
   "id": "0d54b072",
   "metadata": {
    "execution": {
     "iopub.execute_input": "2023-12-30T20:09:12.613941Z",
     "iopub.status.busy": "2023-12-30T20:09:12.613492Z",
     "iopub.status.idle": "2023-12-30T20:09:13.124113Z",
     "shell.execute_reply": "2023-12-30T20:09:13.123135Z"
    },
    "papermill": {
     "duration": 0.534248,
     "end_time": "2023-12-30T20:09:13.126783",
     "exception": false,
     "start_time": "2023-12-30T20:09:12.592535",
     "status": "completed"
    },
    "tags": []
   },
   "outputs": [],
   "source": [
    "df_X_train = train.drop(['Status'],axis='columns').copy()\n",
    "df_X_test = test.copy()\n",
    "df_y = train['Status'].copy()\n",
    "\n",
    "def func_prepro_0(df_a0,df_b0):\n",
    "    def func_N_Years(df_0):\n",
    "        df_1 = df_0['N_Days']\n",
    "        df_2 = (df_1/365).transform(np.ceil).astype(int).rename('N_Years')\n",
    "        df_3 = pd.concat([df_2,df_0],axis='columns')\n",
    "        return df_3\n",
    "    df_a1 = func_N_Years(df_a0)\n",
    "    df_b1 = func_N_Years(df_b0)\n",
    "    \n",
    "    def func_Age_Years(df_0):\n",
    "        df_1 = df_0['Age']\n",
    "        df_2 = (df_1/365).transform(np.floor).astype(int).rename('Age_Years')\n",
    "        df_3 = pd.concat([df_2,df_0],axis='columns')\n",
    "        return df_3\n",
    "    df_a2 = func_Age_Years(df_a1)\n",
    "    df_b2 = func_Age_Years(df_b1)\n",
    "\n",
    "    def func_float(df_0):\n",
    "        df_1 = df_0.select_dtypes(include='float')\n",
    "        df_2 = df_1.apply(lambda x: np.log(1+x)).add_prefix('log_')\n",
    "        df_3 = pd.concat([df_0,df_2],axis='columns')\n",
    "        return df_3\n",
    "    df_a3 = func_float(df_a2)\n",
    "    df_b3 = func_float(df_b2)\n",
    "    \n",
    "    def func_obj(df_0):\n",
    "        df_1 = df_0.select_dtypes(include='object')\n",
    "        df_2 = df_1.astype('category').add_prefix('cate_')\n",
    "        df_3 = pd.DataFrame(index=df_0.index)\n",
    "        for col in df_1.columns:\n",
    "            df_4 = pd.get_dummies(df_1[col],dtype=int,prefix=f'dmy_{col}')\n",
    "            df_3 = pd.concat([df_3,df_4],axis='columns')\n",
    "        df_5 = pd.concat([df_2,df_3,df_0],axis='columns')\n",
    "        return df_5\n",
    "    df_a4 = func_obj(df_a3)\n",
    "    df_b4 = func_obj(df_b3)\n",
    "    \n",
    "#     def poly_float(df_0):\n",
    "#         df_1 = df_0.select_dtypes(include='float')\n",
    "#         lst_col_0 = df_1.columns.to_list()\n",
    "#         poly = PolynomialFeatures(degree=2, interaction_only=False, include_bias=True)\n",
    "#         arr_2 = poly.fit_transform(df_1)\n",
    "#         df_2 = pd.DataFrame(arr_2\\\n",
    "#                             , index=df_1.index\\\n",
    "#                             , columns=poly.get_feature_names_out())\n",
    "#         df_3 = df_2.drop(lst_col_0+['1'],axis='columns')\n",
    "#         col_0 = df_3.columns.to_list()\n",
    "#         col_1 = [re.sub(' ','_',s) for s in col_0]\n",
    "#         df_3.columns = col_1\n",
    "#         df_3 = df_3.add_prefix('poly_')\n",
    "#         df_4 = pd.concat([df_0,df_3],axis='columns')\n",
    "#         return df_4\n",
    "#     df_a5 = poly_float(df_a4)\n",
    "#     df_b5 = poly_float(df_b4)\n",
    "    df_a5 = df_a4\n",
    "    df_b5 = df_b4\n",
    "    \n",
    "    def poly_dmy(df_0):\n",
    "        df_1 = df_0.filter(like='dmy_')\n",
    "        lst_col_0 = df_1.columns.to_list()\n",
    "        poly = PolynomialFeatures(degree=2, interaction_only=True, include_bias=False)\n",
    "        arr_2 = poly.fit_transform(df_1)\n",
    "        df_2 = pd.DataFrame(arr_2\\\n",
    "                            , index=df_1.index\\\n",
    "                            , columns=poly.get_feature_names_out())\n",
    "        df_3 = df_2.drop(lst_col_0+['1'],axis='columns')\n",
    "        col_0 = df_3.columns.to_list()\n",
    "        col_1 = [re.sub(' ','_',s) for s in col_0]\n",
    "        df_3.columns = col_1\n",
    "        df_3 = df_3.add_prefix('poly_').astype(np.float)\n",
    "        df_4 = pd.concat([df_0,df_3],axis='columns')\n",
    "        return df_4\n",
    "#     df_a6 = poly_float(df_a5)\n",
    "#     df_b6 = poly_float(df_b5)\n",
    "    df_a6 = df_a5\n",
    "    df_b6 = df_b5\n",
    "#     df_a6 = df_a5\n",
    "#     df_b6 = df_a5\n",
    "    \n",
    "    def del_obj(df_0):\n",
    "        lst_cols = df_0.select_dtypes(include='object')\n",
    "        df_1 = df_0.drop(lst_cols, axis='columns')\n",
    "        return df_1\n",
    "    df_a7 = del_obj(df_a6)\n",
    "    df_b7 = del_obj(df_b6)\n",
    "    def func_(df_0):\n",
    "        df_a = df_0.filter(like='dmy_')\n",
    "        lst_cols = df_a.columns.to_list()\n",
    "        poly = PolynomialFeatures(degree=3,interaction_only=True,include_bias=False)\n",
    "        df_b = pd.DataFrame(poly.fit_transform(df_a)\\\n",
    "                     , index=df_a.index, columns=poly.get_feature_names_out())\\\n",
    "            .drop(lst_cols, axis='columns')\n",
    "        lst_cols = df_b.columns.to_list()\n",
    "        lst_cols = [re.sub(' ','_',s) for s in lst_cols]\n",
    "        df_b.columns = lst_cols\n",
    "        df_c = pd.concat([df_0,df_b],axis='columns')\n",
    "        df_c\n",
    "        return df_c\n",
    "    df_a8 = func_(df_a7)\n",
    "    df_b8 = func_(df_b7)\n",
    "#     df_a8 = df_a7\n",
    "#     df_b8 = df_a7\n",
    "    \n",
    "    def func_(df_0):\n",
    "        df_1 = df_0[['Age_Years','Bilirubin']]\n",
    "        df_a = pd.Series(index=df_1.index, name='flag_Bilirubin')\n",
    "        df_a.loc[(df_1['Age_Years']>=18)&(df_1['Bilirubin']<1.2)] = 0\n",
    "        df_a.loc[(df_1['Age_Years']<18)&(df_1['Bilirubin']<1.0)] = 0\n",
    "        df_a = df_a.fillna(1.0)\n",
    "        df_b = pd.concat([df_0,df_a],axis='columns')\n",
    "        return df_b\n",
    "    df_a9 = func_(df_a8)\n",
    "    df_b9 = func_(df_b8)\n",
    "    \n",
    "    def func_(df_0):\n",
    "        df_1 = df_0['Cholesterol']\n",
    "        df_a = pd.Series(index=df_1.index, name='flag_Cholesterol')\n",
    "        df_a.loc[(df_1<200)] = 0\n",
    "        df_a.loc[(df_1>=200)&(df_1<240)] = 1\n",
    "        df_a.loc[(df_1>=240)] = 2\n",
    "        df_b = pd.concat([df_0,df_a],axis='columns')\n",
    "        return df_b\n",
    "    df_a10 = func_(df_a9)\n",
    "    df_b10 = func_(df_b9)\n",
    "    \n",
    "    def func_(df_0):\n",
    "        df_1 = df_0['Albumin']\n",
    "        df_a = pd.Series(index=df_1.index, name='flag_Albumin')\n",
    "        df_a.loc[(df_1<3.4)] = 1\n",
    "        df_a.loc[(df_1>=3.4)&(df_1<=5.4)] = 0\n",
    "        df_a.loc[(df_1>5.4)] = 2\n",
    "        df_b = pd.concat([df_0,df_a],axis='columns')\n",
    "        return df_b\n",
    "    df_a11 = func_(df_a10)\n",
    "    df_b11 = func_(df_b10)\n",
    "    \n",
    "    def func_(df_0):\n",
    "        df_1 = df_0['Copper']\n",
    "        df_a = pd.Series(index=df_1.index, name='flag_Copper')\n",
    "        df_a.loc[(df_1<62)] = 1\n",
    "        df_a.loc[(df_1>=62)&(df_1<=140)] = 0\n",
    "        df_a.loc[(df_1>140)] = 2\n",
    "        df_b = pd.concat([df_0,df_a],axis='columns')\n",
    "        return df_b\n",
    "    df_a12 = func_(df_a11)\n",
    "    df_b12 = func_(df_b11)\n",
    "    \n",
    "    def func_(df_0):\n",
    "        df_1 = df_0[['Age_Years','Alk_Phos']]\n",
    "        df_a = pd.Series(index=df_1.index, name='flag_Alk_Phos')\n",
    "        df_a.loc[(df_1['Age_Years']>=18)&(df_1['Alk_Phos']>1470)] = 2\n",
    "        df_a.loc[(df_1['Age_Years']>=18)&(df_1['Alk_Phos']<44)] = 1\n",
    "        df_a = df_a.fillna(0)\n",
    "        df_b = pd.concat([df_0,df_a],axis='columns')\n",
    "        return df_b\n",
    "    df_a13 = func_(df_a12)\n",
    "    df_b13 = func_(df_b12)\n",
    "    \n",
    "    def func_(df_0):\n",
    "        df_1 = df_0[['cate_Sex','SGOT']]\n",
    "        df_a = pd.Series(index=df_1.index, name='flag_SGOT')\n",
    "        df_a.loc[(df_1['cate_Sex']=='M')&(df_1['SGOT']>50)] = 1\n",
    "        df_a.loc[(df_1['cate_Sex']=='F')&(df_1['SGOT']>45)] = 1\n",
    "        df_a = df_a.fillna(0)\n",
    "        df_b = pd.concat([df_0,df_a],axis='columns')\n",
    "        return df_b\n",
    "    df_a14 = func_(df_a13)\n",
    "    df_b14 = func_(df_b13)\n",
    "    \n",
    "    def func_(df_0):\n",
    "        df_1 = df_0['Tryglicerides']\n",
    "        df_a = pd.Series(index=df_1.index, name='flag_Tryglicerides')\n",
    "        df_a.loc[(df_1<150)] = 0\n",
    "        df_a.loc[(df_1>=150)&(df_1<200)] = 1\n",
    "        df_a.loc[(df_1>=200)&(df_1<500)] = 2\n",
    "        df_a.loc[(df_1>=500)] = 3\n",
    "        df_b = pd.concat([df_0,df_a],axis='columns')\n",
    "        return df_b\n",
    "    df_a15 = func_(df_a14)\n",
    "    df_b15 = func_(df_b14)\n",
    "    \n",
    "    def func_(df_0):\n",
    "        df_1 = df_0['Platelets']\n",
    "        df_a = pd.Series(index=df_1.index, name='flag_Platelets')\n",
    "        df_a.loc[(df_1<150)] = 2\n",
    "        df_a.loc[(df_1>450)] = 1\n",
    "        df_a = df_a.fillna(0)\n",
    "        df_b = pd.concat([df_0,df_a],axis='columns')\n",
    "        return df_b\n",
    "    df_a16 = func_(df_a15)\n",
    "    df_b16 = func_(df_b15)\n",
    "    \n",
    "    def func_(df_0):\n",
    "        df_1 = df_0['Prothrombin']\n",
    "        df_a = pd.Series(index=df_1.index, name='flag_Prothrombin')\n",
    "        df_a.loc[(df_1>=11)&(df_1<=13.5)] = 0\n",
    "        df_a = df_a.fillna(1)\n",
    "        df_b = pd.concat([df_0,df_a],axis='columns')\n",
    "        return df_b\n",
    "    df_a17 = func_(df_a16)\n",
    "    df_b17 = func_(df_b16)\n",
    "    return df_a17, df_b17\n",
    "\n",
    "df_train_X, df_test_X = func_prepro_0(df_X_train, df_X_test)\n"
   ]
  },
  {
   "cell_type": "code",
   "execution_count": 14,
   "id": "520be06d",
   "metadata": {
    "execution": {
     "iopub.execute_input": "2023-12-30T20:09:13.164507Z",
     "iopub.status.busy": "2023-12-30T20:09:13.164128Z",
     "iopub.status.idle": "2023-12-30T20:09:13.171777Z",
     "shell.execute_reply": "2023-12-30T20:09:13.170741Z"
    },
    "papermill": {
     "duration": 0.02955,
     "end_time": "2023-12-30T20:09:13.173985",
     "exception": false,
     "start_time": "2023-12-30T20:09:13.144435",
     "status": "completed"
    },
    "tags": []
   },
   "outputs": [],
   "source": [
    "enc = LabelEncoder()\n",
    "arr_y = enc.fit_transform(df_y)\n",
    "df_train_y = pd.Series(arr_y, index=df_y.index, name='Status')"
   ]
  },
  {
   "cell_type": "code",
   "execution_count": 15,
   "id": "49f2f686",
   "metadata": {
    "execution": {
     "iopub.execute_input": "2023-12-30T20:09:13.211255Z",
     "iopub.status.busy": "2023-12-30T20:09:13.210625Z",
     "iopub.status.idle": "2023-12-30T20:09:13.215468Z",
     "shell.execute_reply": "2023-12-30T20:09:13.214332Z"
    },
    "papermill": {
     "duration": 0.026143,
     "end_time": "2023-12-30T20:09:13.217766",
     "exception": false,
     "start_time": "2023-12-30T20:09:13.191623",
     "status": "completed"
    },
    "tags": []
   },
   "outputs": [],
   "source": [
    "# df_X_org = df_train_X.copy()\n",
    "# df_y_org = df_train_y.copy()\n",
    "# rus = RandomUnderSampler(random_state=17)\n",
    "# df_train_X, df_train_y = rus.fit_resample(df_X_org, df_y_org)\n",
    "# df_train_X.shape, df_X_org.shape,df_X_train.shape\n"
   ]
  },
  {
   "cell_type": "code",
   "execution_count": 16,
   "id": "9b993cbe",
   "metadata": {
    "execution": {
     "iopub.execute_input": "2023-12-30T20:09:13.254839Z",
     "iopub.status.busy": "2023-12-30T20:09:13.254415Z",
     "iopub.status.idle": "2023-12-30T20:09:13.264211Z",
     "shell.execute_reply": "2023-12-30T20:09:13.263110Z"
    },
    "papermill": {
     "duration": 0.031098,
     "end_time": "2023-12-30T20:09:13.266639",
     "exception": false,
     "start_time": "2023-12-30T20:09:13.235541",
     "status": "completed"
    },
    "tags": []
   },
   "outputs": [
    {
     "data": {
      "text/plain": [
       "Status\n",
       "0    4965\n",
       "2    2665\n",
       "1     275\n",
       "Name: count, dtype: int64"
      ]
     },
     "execution_count": 16,
     "metadata": {},
     "output_type": "execute_result"
    }
   ],
   "source": [
    "df_train_y.value_counts()"
   ]
  },
  {
   "cell_type": "code",
   "execution_count": 17,
   "id": "2565ee7c",
   "metadata": {
    "execution": {
     "iopub.execute_input": "2023-12-30T20:09:13.304803Z",
     "iopub.status.busy": "2023-12-30T20:09:13.304121Z",
     "iopub.status.idle": "2023-12-30T20:09:13.341441Z",
     "shell.execute_reply": "2023-12-30T20:09:13.340307Z"
    },
    "papermill": {
     "duration": 0.059673,
     "end_time": "2023-12-30T20:09:13.344108",
     "exception": false,
     "start_time": "2023-12-30T20:09:13.284435",
     "status": "completed"
    },
    "tags": []
   },
   "outputs": [],
   "source": [
    "df_cv_X, df_e_X, df_cv_y, df_e_y = train_test_split(\\\n",
    "                                                   df_train_X, df_train_y\\\n",
    "                                                    , test_size=0.2\\\n",
    "                                                    , shuffle=True\\\n",
    "                                                    , stratify=df_train_y\\\n",
    "                                                    , random_state=17\\\n",
    "                                                   )\n",
    "df_t_X = df_test_X.copy()\n",
    "skf = StratifiedKFold(n_splits=4,shuffle=True,random_state=17)"
   ]
  },
  {
   "cell_type": "code",
   "execution_count": 18,
   "id": "790a89f2",
   "metadata": {
    "execution": {
     "iopub.execute_input": "2023-12-30T20:09:13.381518Z",
     "iopub.status.busy": "2023-12-30T20:09:13.381132Z",
     "iopub.status.idle": "2023-12-30T20:09:13.388286Z",
     "shell.execute_reply": "2023-12-30T20:09:13.387343Z"
    },
    "papermill": {
     "duration": 0.02845,
     "end_time": "2023-12-30T20:09:13.390612",
     "exception": false,
     "start_time": "2023-12-30T20:09:13.362162",
     "status": "completed"
    },
    "tags": []
   },
   "outputs": [
    {
     "data": {
      "text/plain": [
       "Index([ 7905,  7906,  7907,  7908,  7909,  7910,  7911,  7912,  7913,  7914,\n",
       "       ...\n",
       "       13166, 13167, 13168, 13169, 13170, 13171, 13172, 13173, 13174, 13175],\n",
       "      dtype='int64', name='id', length=5271)"
      ]
     },
     "execution_count": 18,
     "metadata": {},
     "output_type": "execute_result"
    }
   ],
   "source": [
    "df_t_X.index"
   ]
  },
  {
   "cell_type": "code",
   "execution_count": 19,
   "id": "b9c11a0b",
   "metadata": {
    "execution": {
     "iopub.execute_input": "2023-12-30T20:09:13.428324Z",
     "iopub.status.busy": "2023-12-30T20:09:13.427863Z",
     "iopub.status.idle": "2023-12-30T20:09:13.434690Z",
     "shell.execute_reply": "2023-12-30T20:09:13.433749Z"
    },
    "papermill": {
     "duration": 0.028664,
     "end_time": "2023-12-30T20:09:13.437291",
     "exception": false,
     "start_time": "2023-12-30T20:09:13.408627",
     "status": "completed"
    },
    "tags": []
   },
   "outputs": [
    {
     "data": {
      "text/plain": [
       "((6324, 416), (1581, 416), (5271, 416))"
      ]
     },
     "execution_count": 19,
     "metadata": {},
     "output_type": "execute_result"
    }
   ],
   "source": [
    "df_cv_X.shape, df_e_X.shape,df_t_X.shape"
   ]
  },
  {
   "cell_type": "code",
   "execution_count": 20,
   "id": "7c156ce6",
   "metadata": {
    "execution": {
     "iopub.execute_input": "2023-12-30T20:09:13.475405Z",
     "iopub.status.busy": "2023-12-30T20:09:13.474951Z",
     "iopub.status.idle": "2023-12-30T20:09:13.486930Z",
     "shell.execute_reply": "2023-12-30T20:09:13.485841Z"
    },
    "papermill": {
     "duration": 0.03378,
     "end_time": "2023-12-30T20:09:13.489175",
     "exception": false,
     "start_time": "2023-12-30T20:09:13.455395",
     "status": "completed"
    },
    "tags": []
   },
   "outputs": [
    {
     "data": {
      "text/plain": [
       "cate_Drug                                                1\n",
       "cate_Sex                                                 1\n",
       "dmy_Sex_F_dmy_Edema_N_dmy_Edema_S                        1\n",
       "dmy_Sex_F_dmy_Spiders_Y_dmy_Edema_Y                      1\n",
       "dmy_Sex_F_dmy_Spiders_Y_dmy_Edema_S                      1\n",
       "                                                        ..\n",
       "dmy_Drug_D-penicillamine_dmy_Sex_F_dmy_Hepatomegaly_N    1\n",
       "dmy_Drug_D-penicillamine_dmy_Sex_F_dmy_Ascites_Y         1\n",
       "dmy_Drug_D-penicillamine_dmy_Sex_F_dmy_Ascites_N         1\n",
       "dmy_Drug_D-penicillamine_dmy_Sex_F_dmy_Sex_M             1\n",
       "flag_Prothrombin                                         1\n",
       "Name: count, Length: 416, dtype: int64"
      ]
     },
     "execution_count": 20,
     "metadata": {},
     "output_type": "execute_result"
    }
   ],
   "source": [
    "pd.Series(df_cv_X.columns.to_numpy()).value_counts()"
   ]
  },
  {
   "cell_type": "code",
   "execution_count": 21,
   "id": "458a5012",
   "metadata": {
    "execution": {
     "iopub.execute_input": "2023-12-30T20:09:13.527649Z",
     "iopub.status.busy": "2023-12-30T20:09:13.527257Z",
     "iopub.status.idle": "2023-12-30T20:09:13.562461Z",
     "shell.execute_reply": "2023-12-30T20:09:13.560974Z"
    },
    "papermill": {
     "duration": 0.057531,
     "end_time": "2023-12-30T20:09:13.564991",
     "exception": false,
     "start_time": "2023-12-30T20:09:13.507460",
     "status": "completed"
    },
    "tags": []
   },
   "outputs": [
    {
     "name": "stdout",
     "output_type": "stream",
     "text": [
      "<class 'pandas.core.frame.DataFrame'>\n",
      "Index: 6324 entries, 3325 to 2682\n",
      "Columns: 416 entries, cate_Drug to flag_Prothrombin\n",
      "dtypes: category(6), float64(393), int64(17)\n",
      "memory usage: 19.9 MB\n"
     ]
    }
   ],
   "source": [
    "df_cv_X.info()"
   ]
  },
  {
   "cell_type": "markdown",
   "id": "7b76f5d6",
   "metadata": {
    "papermill": {
     "duration": 0.01796,
     "end_time": "2023-12-30T20:09:13.601266",
     "exception": false,
     "start_time": "2023-12-30T20:09:13.583306",
     "status": "completed"
    },
    "tags": []
   },
   "source": [
    "## Model"
   ]
  },
  {
   "cell_type": "code",
   "execution_count": 22,
   "id": "21006b9a",
   "metadata": {
    "execution": {
     "iopub.execute_input": "2023-12-30T20:09:13.641204Z",
     "iopub.status.busy": "2023-12-30T20:09:13.640479Z",
     "iopub.status.idle": "2023-12-30T20:09:13.646557Z",
     "shell.execute_reply": "2023-12-30T20:09:13.645530Z"
    },
    "papermill": {
     "duration": 0.028264,
     "end_time": "2023-12-30T20:09:13.648730",
     "exception": false,
     "start_time": "2023-12-30T20:09:13.620466",
     "status": "completed"
    },
    "tags": []
   },
   "outputs": [],
   "source": [
    "def feval_(preds,train):\n",
    "    df_p0 = pd.DataFrame(np.array(preds).reshape(dct_cvet['df_v_y'].shape[0],-1))\n",
    "    df_t0 = pd.Series(train.get_label())\n",
    "    score = func_logloss(df_t0, df_p0)\n",
    "    return 'score',score,False"
   ]
  },
  {
   "cell_type": "code",
   "execution_count": 23,
   "id": "e26fd564",
   "metadata": {
    "execution": {
     "iopub.execute_input": "2023-12-30T20:09:13.687605Z",
     "iopub.status.busy": "2023-12-30T20:09:13.687184Z",
     "iopub.status.idle": "2023-12-30T20:11:51.643146Z",
     "shell.execute_reply": "2023-12-30T20:11:51.642002Z"
    },
    "papermill": {
     "duration": 157.978698,
     "end_time": "2023-12-30T20:11:51.645883",
     "exception": false,
     "start_time": "2023-12-30T20:09:13.667185",
     "status": "completed"
    },
    "tags": []
   },
   "outputs": [
    {
     "name": "stdout",
     "output_type": "stream",
     "text": [
      "[101]\tvalid_0's multi_logloss: 0.479311\n",
      "[101]\tvalid_0's multi_logloss: 0.461383\n",
      "[101]\tvalid_0's multi_logloss: 0.498247\n",
      "[101]\tvalid_0's multi_logloss: 0.506129\n",
      "[101]\tvalid_0's multi_logloss: 0.490928\n",
      "[101]\tvalid_0's multi_logloss: 0.455162\n",
      "[101]\tvalid_0's multi_logloss: 0.461758\n",
      "[101]\tvalid_0's multi_logloss: 0.456193\n",
      "[101]\tvalid_0's multi_logloss: 0.475006\n",
      "[101]\tvalid_0's multi_logloss: 0.476589\n",
      "[101]\tvalid_0's multi_logloss: 0.453638\n",
      "[101]\tvalid_0's multi_logloss: 0.45571\n",
      "[101]\tvalid_0's multi_logloss: 0.45761\n",
      "[101]\tvalid_0's multi_logloss: 0.454617\n",
      "[101]\tvalid_0's multi_logloss: 0.457342\n",
      "[101]\tvalid_0's multi_logloss: 0.453916\n",
      "[101]\tvalid_0's multi_logloss: 0.466881\n",
      "[101]\tvalid_0's multi_logloss: 0.456463\n",
      "[101]\tvalid_0's multi_logloss: 0.459155\n",
      "[101]\tvalid_0's multi_logloss: 0.466892\n",
      "[101]\tvalid_0's multi_logloss: 0.457632\n",
      "[101]\tvalid_0's multi_logloss: 0.457112\n",
      "[101]\tvalid_0's multi_logloss: 0.457643\n",
      "[101]\tvalid_0's multi_logloss: 0.46307\n",
      "[101]\tvalid_0's multi_logloss: 0.454614\n",
      "[101]\tvalid_0's multi_logloss: 0.457574\n",
      "[101]\tvalid_0's multi_logloss: 0.461907\n",
      "[101]\tvalid_0's multi_logloss: 0.455974\n",
      "[101]\tvalid_0's multi_logloss: 0.455531\n",
      "[101]\tvalid_0's multi_logloss: 0.454446\n",
      "[101]\tvalid_0's multi_logloss: 0.460455\n",
      "[101]\tvalid_0's multi_logloss: 0.46057\n",
      "[101]\tvalid_0's multi_logloss: 0.455693\n",
      "[101]\tvalid_0's multi_logloss: 0.454629\n",
      "[101]\tvalid_0's multi_logloss: 0.460435\n",
      "[101]\tvalid_0's multi_logloss: 0.454555\n",
      "[101]\tvalid_0's multi_logloss: 0.457817\n",
      "[101]\tvalid_0's multi_logloss: 0.456112\n",
      "[101]\tvalid_0's multi_logloss: 0.453916\n",
      "[101]\tvalid_0's multi_logloss: 0.460771\n",
      "[101]\tvalid_0's multi_logloss: 0.457088\n",
      "[101]\tvalid_0's multi_logloss: 0.458096\n",
      "[101]\tvalid_0's multi_logloss: 0.463875\n",
      "[101]\tvalid_0's multi_logloss: 0.456442\n",
      "[101]\tvalid_0's multi_logloss: 0.457633\n",
      "[101]\tvalid_0's multi_logloss: 0.456494\n",
      "[101]\tvalid_0's multi_logloss: 0.464173\n",
      "[101]\tvalid_0's multi_logloss: 0.452575\n",
      "[101]\tvalid_0's multi_logloss: 0.457247\n",
      "[101]\tvalid_0's multi_logloss: 0.456941\n",
      "[101]\tvalid_0's multi_logloss: 0.45545\n",
      "[101]\tvalid_0's multi_logloss: 0.459479\n",
      "[101]\tvalid_0's multi_logloss: 0.45743\n",
      "[101]\tvalid_0's multi_logloss: 0.460905\n",
      "[101]\tvalid_0's multi_logloss: 0.456693\n",
      "[101]\tvalid_0's multi_logloss: 0.456744\n",
      "[101]\tvalid_0's multi_logloss: 0.500511\n",
      "[101]\tvalid_0's multi_logloss: 0.458606\n",
      "[101]\tvalid_0's multi_logloss: 0.456223\n",
      "[101]\tvalid_0's multi_logloss: 0.454211\n",
      "[101]\tvalid_0's multi_logloss: 0.460559\n",
      "[101]\tvalid_0's multi_logloss: 0.456245\n",
      "[101]\tvalid_0's multi_logloss: 0.457049\n",
      "[101]\tvalid_0's multi_logloss: 0.457288\n",
      "[101]\tvalid_0's multi_logloss: 0.461366\n",
      "[101]\tvalid_0's multi_logloss: 0.460622\n",
      "[101]\tvalid_0's multi_logloss: 0.455221\n",
      "[101]\tvalid_0's multi_logloss: 0.457761\n",
      "[101]\tvalid_0's multi_logloss: 0.459986\n",
      "[101]\tvalid_0's multi_logloss: 0.4554\n",
      "[101]\tvalid_0's multi_logloss: 0.453208\n",
      "[101]\tvalid_0's multi_logloss: 0.453766\n",
      "[101]\tvalid_0's multi_logloss: 0.453205\n",
      "[101]\tvalid_0's multi_logloss: 0.452456\n",
      "[101]\tvalid_0's multi_logloss: 0.454767\n",
      "[101]\tvalid_0's multi_logloss: 0.456557\n",
      "[101]\tvalid_0's multi_logloss: 0.453497\n",
      "[101]\tvalid_0's multi_logloss: 0.455059\n",
      "[101]\tvalid_0's multi_logloss: 0.455316\n",
      "[101]\tvalid_0's multi_logloss: 0.453395\n",
      "[101]\tvalid_0's multi_logloss: 0.455877\n",
      "[101]\tvalid_0's multi_logloss: 0.455273\n",
      "[101]\tvalid_0's multi_logloss: 0.455178\n",
      "[101]\tvalid_0's multi_logloss: 0.456663\n",
      "[101]\tvalid_0's multi_logloss: 0.454471\n",
      "[101]\tvalid_0's multi_logloss: 0.455012\n",
      "[101]\tvalid_0's multi_logloss: 0.455804\n",
      "[101]\tvalid_0's multi_logloss: 0.453431\n",
      "[101]\tvalid_0's multi_logloss: 0.453513\n",
      "[101]\tvalid_0's multi_logloss: 0.455744\n",
      "[101]\tvalid_0's multi_logloss: 0.453373\n",
      "[101]\tvalid_0's multi_logloss: 0.453702\n",
      "[101]\tvalid_0's multi_logloss: 0.456497\n",
      "[101]\tvalid_0's multi_logloss: 0.452864\n",
      "[101]\tvalid_0's multi_logloss: 0.456963\n",
      "{'objective': 'multiclass', 'num_class': 3, 'verbosity': -1, 'metric': 'multi_logloss', 'max_depth': 3, 'learning_rate': 0.09686084094968556, 'num_leaves': 28}\n"
     ]
    }
   ],
   "source": [
    "class ModelLGBM2():\n",
    "    def __init__(self):\n",
    "        self.Model = lgb\n",
    "    def preprocess(self, df_0):\n",
    "        lst_col_cate = df_0.filter(like='cate_').columns.to_list()\n",
    "        df_1 = df_0.drop(lst_col_cate, axis='columns')\n",
    "        return df_1\n",
    "    def train(self, df_X, df_y, skf):\n",
    "        Model = self.Model\n",
    "        df_cv_X = self.preprocess(df_X)\n",
    "        df_cv_y = df_y\n",
    "        df_c_X, df_v_X, df_c_y, df_v_y = train_test_split(\\\n",
    "                                                         df_cv_X, df_cv_y\\\n",
    "                                                          , test_size=0.25\\\n",
    "                                                          , shuffle=True\\\n",
    "                                                          , stratify=df_cv_y\\\n",
    "                                                          , random_state=17\\\n",
    "                                                         )\n",
    "        params = {\\\n",
    "                  'objective':'multiclass'\\\n",
    "                  , 'num_class':3\\\n",
    "                  , 'verbosity':-1\\\n",
    "                  , 'metric':'multi_logloss'\n",
    "#                   , 'metric':None\\\n",
    "                 }\n",
    "        ds_c = Model.Dataset(df_c_X, df_c_y)\n",
    "        ds_v = Model.Dataset(df_v_X, df_v_y)\n",
    "        def objective(trial):\n",
    "            max_depth_ = trial.suggest_int('max_depth', 3,7)\n",
    "            num_leaves_ = trial.suggest_int('num_leaves',8,32)\n",
    "            learning_rate_ = trial.suggest_float('learning_rate', 1e-2,1e-1,log=False)\n",
    "            params_trial = {\\\n",
    "                      'max_depth':max_depth_\\\n",
    "                      , 'learning_rate':learning_rate_\\\n",
    "                     }\n",
    "            params.update(params_trial)\n",
    "            cb_log_evaluation = Model.log_evaluation(period=101)\n",
    "            cb_early_stopping = Model.early_stopping(stopping_rounds=25,verbose=False)\n",
    "            model = Model.train(\\\n",
    "                        params\\\n",
    "                        , ds_c\\\n",
    "                        , valid_sets=[ds_v]\\\n",
    "                        , callbacks=[cb_log_evaluation, cb_early_stopping]\\\n",
    "                        , num_boost_round=200\\\n",
    "#                         , feval=feval_\\\n",
    "                       )\n",
    "#             arr_c = model.predict(df_c_X)\n",
    "#             df_p_c = pd.DataFrame(arr_c, index=df_c_X.index)\n",
    "#             score_c = func_logloss(df_c_y, df_p_c)          \n",
    "\n",
    "            arr_v = model.predict(df_v_X)\n",
    "            df_p_v = pd.DataFrame(arr_v, index=df_v_X.index)\n",
    "            score_v = func_logloss(df_v_y, df_p_v)\n",
    "            \n",
    "#             score = ((score_v - score_c) - 0.001)**2\n",
    "            return score_v\n",
    "        sampler_ = optuna.samplers.TPESampler(seed=17)\n",
    "        optuna.logging.set_verbosity(optuna.logging.CRITICAL)\n",
    "        study = optuna.create_study(sampler=sampler_)\n",
    "        study.optimize(objective, n_trials=100)\n",
    "        self.study = study\n",
    "        params.update(study.best_params)\n",
    "        print(params)\n",
    "        cb_log_evaluation = Model.log_evaluation(period=101)\n",
    "        cb_early_stopping = Model.early_stopping(stopping_rounds=25,verbose=False)\n",
    "        lst_models = []\n",
    "        df_v_proba = pd.DataFrame()\n",
    "        for idx_c, idx_v in skf.split(df_cv_X, df_cv_y):\n",
    "            df_c_X = df_cv_X.iloc[idx_c]\n",
    "            df_c_y = df_cv_y.iloc[idx_c]\n",
    "            df_v_X = df_cv_X.iloc[idx_v]\n",
    "            df_v_y = df_cv_X.iloc[idx_v]\n",
    "            ds_c = Model.Dataset(df_c_X, df_c_y)\n",
    "            ds_v = Model.Dataset(df_v_X, df_v_y)\n",
    "            model = Model.train(\\\n",
    "                             params\\\n",
    "                              , ds_c\\\n",
    "#                               , valid_sets=[ds_v]\\\n",
    "                              , callbacks=[cb_log_evaluation]\\\n",
    "                              , num_boost_round=200\\\n",
    "                             )\n",
    "            lst_models.append(model)\n",
    "            arr_v = model.predict(df_v_X)\n",
    "            df_0 = pd.DataFrame(arr_v, index=df_v_X.index)\n",
    "            df_v_proba = pd.concat([df_v_proba, df_0],axis='index')\n",
    "        self.df_v_proba = df_v_proba\n",
    "        self.lst_models = lst_models\n",
    "    def proba(self, df_0):\n",
    "        df_X = self.preprocess(df_0)\n",
    "        for i, model in enumerate(self.lst_models):\n",
    "            arr_0 = model.predict(df_X)\n",
    "            if i==0:\n",
    "                arr_s = arr_0\n",
    "            else:\n",
    "                arr_s += arr_0\n",
    "        arr_1 = arr_s/len(self.lst_models)\n",
    "        df_1 = pd.DataFrame(arr_1, index=df_X.index)\n",
    "        return df_1\n",
    "\n",
    "modelLGBM2 = ModelLGBM2()\n",
    "modelLGBM2.train(df_cv_X, df_cv_y, skf)"
   ]
  },
  {
   "cell_type": "code",
   "execution_count": 24,
   "id": "4fe70dae",
   "metadata": {
    "execution": {
     "iopub.execute_input": "2023-12-30T20:11:51.703078Z",
     "iopub.status.busy": "2023-12-30T20:11:51.702657Z",
     "iopub.status.idle": "2023-12-30T20:11:51.968908Z",
     "shell.execute_reply": "2023-12-30T20:11:51.967843Z"
    },
    "papermill": {
     "duration": 0.298128,
     "end_time": "2023-12-30T20:11:51.971552",
     "exception": false,
     "start_time": "2023-12-30T20:11:51.673424",
     "status": "completed"
    },
    "tags": []
   },
   "outputs": [
    {
     "name": "stdout",
     "output_type": "stream",
     "text": [
      "0.43435613733692746\n",
      "True     1313\n",
      "False     268\n",
      "Name: count, dtype: int64\n",
      "0.83\n"
     ]
    }
   ],
   "source": [
    "df_p0 = modelLGBM2.proba(df_e_X)\n",
    "df_t0 = df_e_y\n",
    "print(func_logloss(df_t0, df_p0))\n",
    "func_result(df_t0, df_p0)"
   ]
  },
  {
   "cell_type": "code",
   "execution_count": 25,
   "id": "339618cb",
   "metadata": {
    "execution": {
     "iopub.execute_input": "2023-12-30T20:11:52.028702Z",
     "iopub.status.busy": "2023-12-30T20:11:52.028311Z",
     "iopub.status.idle": "2023-12-30T20:11:52.364667Z",
     "shell.execute_reply": "2023-12-30T20:11:52.363540Z"
    },
    "papermill": {
     "duration": 0.368339,
     "end_time": "2023-12-30T20:11:52.367664",
     "exception": false,
     "start_time": "2023-12-30T20:11:51.999325",
     "status": "completed"
    },
    "tags": []
   },
   "outputs": [
    {
     "data": {
      "text/html": [
       "<div>\n",
       "<style scoped>\n",
       "    .dataframe tbody tr th:only-of-type {\n",
       "        vertical-align: middle;\n",
       "    }\n",
       "\n",
       "    .dataframe tbody tr th {\n",
       "        vertical-align: top;\n",
       "    }\n",
       "\n",
       "    .dataframe thead th {\n",
       "        text-align: right;\n",
       "    }\n",
       "</style>\n",
       "<table border=\"1\" class=\"dataframe\">\n",
       "  <thead>\n",
       "    <tr style=\"text-align: right;\">\n",
       "      <th></th>\n",
       "      <th>id</th>\n",
       "      <th>Status_C</th>\n",
       "      <th>Status_CL</th>\n",
       "      <th>Status_D</th>\n",
       "    </tr>\n",
       "  </thead>\n",
       "  <tbody>\n",
       "    <tr>\n",
       "      <th>0</th>\n",
       "      <td>7905</td>\n",
       "      <td>0.598267</td>\n",
       "      <td>0.024522</td>\n",
       "      <td>0.377210</td>\n",
       "    </tr>\n",
       "    <tr>\n",
       "      <th>1</th>\n",
       "      <td>7906</td>\n",
       "      <td>0.553753</td>\n",
       "      <td>0.237389</td>\n",
       "      <td>0.208858</td>\n",
       "    </tr>\n",
       "    <tr>\n",
       "      <th>2</th>\n",
       "      <td>7907</td>\n",
       "      <td>0.009711</td>\n",
       "      <td>0.003774</td>\n",
       "      <td>0.986515</td>\n",
       "    </tr>\n",
       "    <tr>\n",
       "      <th>3</th>\n",
       "      <td>7908</td>\n",
       "      <td>0.937304</td>\n",
       "      <td>0.004415</td>\n",
       "      <td>0.058281</td>\n",
       "    </tr>\n",
       "    <tr>\n",
       "      <th>4</th>\n",
       "      <td>7909</td>\n",
       "      <td>0.778259</td>\n",
       "      <td>0.052389</td>\n",
       "      <td>0.169352</td>\n",
       "    </tr>\n",
       "    <tr>\n",
       "      <th>...</th>\n",
       "      <td>...</td>\n",
       "      <td>...</td>\n",
       "      <td>...</td>\n",
       "      <td>...</td>\n",
       "    </tr>\n",
       "    <tr>\n",
       "      <th>5266</th>\n",
       "      <td>13171</td>\n",
       "      <td>0.810478</td>\n",
       "      <td>0.154252</td>\n",
       "      <td>0.035270</td>\n",
       "    </tr>\n",
       "    <tr>\n",
       "      <th>5267</th>\n",
       "      <td>13172</td>\n",
       "      <td>0.972027</td>\n",
       "      <td>0.002369</td>\n",
       "      <td>0.025604</td>\n",
       "    </tr>\n",
       "    <tr>\n",
       "      <th>5268</th>\n",
       "      <td>13173</td>\n",
       "      <td>0.858242</td>\n",
       "      <td>0.009933</td>\n",
       "      <td>0.131825</td>\n",
       "    </tr>\n",
       "    <tr>\n",
       "      <th>5269</th>\n",
       "      <td>13174</td>\n",
       "      <td>0.993032</td>\n",
       "      <td>0.001501</td>\n",
       "      <td>0.005468</td>\n",
       "    </tr>\n",
       "    <tr>\n",
       "      <th>5270</th>\n",
       "      <td>13175</td>\n",
       "      <td>0.280829</td>\n",
       "      <td>0.009279</td>\n",
       "      <td>0.709892</td>\n",
       "    </tr>\n",
       "  </tbody>\n",
       "</table>\n",
       "<p>5271 rows × 4 columns</p>\n",
       "</div>"
      ],
      "text/plain": [
       "         id  Status_C  Status_CL  Status_D\n",
       "0      7905  0.598267   0.024522  0.377210\n",
       "1      7906  0.553753   0.237389  0.208858\n",
       "2      7907  0.009711   0.003774  0.986515\n",
       "3      7908  0.937304   0.004415  0.058281\n",
       "4      7909  0.778259   0.052389  0.169352\n",
       "...     ...       ...        ...       ...\n",
       "5266  13171  0.810478   0.154252  0.035270\n",
       "5267  13172  0.972027   0.002369  0.025604\n",
       "5268  13173  0.858242   0.009933  0.131825\n",
       "5269  13174  0.993032   0.001501  0.005468\n",
       "5270  13175  0.280829   0.009279  0.709892\n",
       "\n",
       "[5271 rows x 4 columns]"
      ]
     },
     "metadata": {},
     "output_type": "display_data"
    }
   ],
   "source": [
    "df_0 = modelLGBM2.proba(df_t_X)\n",
    "df_0.columns = ['Status_C','Status_CL','Status_D']\n",
    "df_submit = df_0.reset_index(drop=False)\n",
    "display(df_submit)\n",
    "df_submit.to_csv('submission.csv',index=None)"
   ]
  },
  {
   "cell_type": "code",
   "execution_count": 26,
   "id": "09102c9e",
   "metadata": {
    "execution": {
     "iopub.execute_input": "2023-12-30T20:11:52.425321Z",
     "iopub.status.busy": "2023-12-30T20:11:52.424873Z",
     "iopub.status.idle": "2023-12-30T20:11:52.446832Z",
     "shell.execute_reply": "2023-12-30T20:11:52.446007Z"
    },
    "papermill": {
     "duration": 0.053947,
     "end_time": "2023-12-30T20:11:52.449353",
     "exception": false,
     "start_time": "2023-12-30T20:11:52.395406",
     "status": "completed"
    },
    "tags": []
   },
   "outputs": [],
   "source": [
    "class ModelLGBM():\n",
    "    def __init__(self):\n",
    "        self.Model = lgb\n",
    "    def preprocess(self, df_0):\n",
    "        lst_col_dmy = df_0.filter(like='dmy_').columns.to_list()\n",
    "        df_1 = df_0.drop(lst_col_dmy, axis='columns')\n",
    "        return df_1\n",
    "    def train(self, df_X, df_y, skf):\n",
    "        Model = self.Model\n",
    "        df_cv_X = self.preprocess(df_X)\n",
    "        df_cv_y = df_y\n",
    "        df_c_X, df_v_X, df_c_y, df_v_y = train_test_split(\\\n",
    "                                                         df_cv_X, df_cv_y\\\n",
    "                                                          , test_size=0.25\\\n",
    "                                                          , shuffle=True\\\n",
    "                                                          , stratify=df_cv_y\\\n",
    "                                                          , random_state=17\\\n",
    "                                                         )\n",
    "        params = {\\\n",
    "                  'objective':'multiclass'\\\n",
    "                  , 'num_class':3\\\n",
    "                  , 'verbosity':-1\\\n",
    "                  , 'metric':'multi_logloss'\n",
    "#                   , 'metric':None\\\n",
    "                 }\n",
    "        ds_c = Model.Dataset(df_c_X, df_c_y)\n",
    "        ds_v = Model.Dataset(df_v_X, df_v_y)\n",
    "        def objective(trial):\n",
    "            max_depth_ = trial.suggest_int('max_depth', 3,7)\n",
    "            num_leaves_ = trial.suggest_int('num_leaves',8,32)\n",
    "            learning_rate_ = trial.suggest_float('learning_rate', 1e-2,1e-1,log=False)\n",
    "            params_trial = {\\\n",
    "                      'max_depth':max_depth_\\\n",
    "                      , 'learning_rate':learning_rate_\\\n",
    "                     }\n",
    "            params.update(params_trial)\n",
    "            cb_log_evaluation = Model.log_evaluation(period=101)\n",
    "            cb_early_stopping = Model.early_stopping(stopping_rounds=25,verbose=False)\n",
    "            model = Model.train(\\\n",
    "                        params\\\n",
    "                        , ds_c\\\n",
    "                        , valid_sets=[ds_v]\\\n",
    "                        , callbacks=[cb_log_evaluation, cb_early_stopping]\\\n",
    "#                         , feval=feval_\\\n",
    "                       )\n",
    "#             arr_c = model.predict(df_c_X)\n",
    "#             df_p_c = pd.DataFrame(arr_c, index=df_c_X.index)\n",
    "#             score_c = func_logloss(df_c_y, df_p_c)          \n",
    "\n",
    "            arr_v = model.predict(df_v_X)\n",
    "            df_p_v = pd.DataFrame(arr_v, index=df_v_X.index)\n",
    "            score_v = func_logloss(df_v_y, df_p_v)\n",
    "            \n",
    "#             score = ((score_v - score_c) - 0.001)**2\n",
    "            return score_v\n",
    "        sampler_ = optuna.samplers.TPESampler(seed=17)\n",
    "        optuna.logging.set_verbosity(optuna.logging.CRITICAL)\n",
    "        study = optuna.create_study(sampler=sampler_)\n",
    "        study.optimize(objective, n_trials=100)\n",
    "        self.study = study\n",
    "        params.update(study.best_params)\n",
    "        print(params)\n",
    "        cb_log_evaluation = Model.log_evaluation(period=101)\n",
    "        cb_early_stopping = Model.early_stopping(stopping_rounds=25,verbose=False)\n",
    "        lst_models = []\n",
    "        df_v_proba = pd.DataFrame()\n",
    "        for idx_c, idx_v in skf.split(df_cv_X, df_cv_y):\n",
    "            df_c_X = df_cv_X.iloc[idx_c]\n",
    "            df_c_y = df_cv_y.iloc[idx_c]\n",
    "            df_v_X = df_cv_X.iloc[idx_v]\n",
    "            df_v_y = df_cv_X.iloc[idx_v]\n",
    "            ds_c = Model.Dataset(df_c_X, df_c_y)\n",
    "            model = Model.train(\\\n",
    "                             params\\\n",
    "                              , ds_c\\\n",
    "                              , callbacks=[cb_log_evaluation]\\\n",
    "                             )\n",
    "            lst_models.append(model)\n",
    "            arr_v = model.predict(df_v_X)\n",
    "            df_0 = pd.DataFrame(arr_v, index=df_v_X.index)\n",
    "            df_v_proba = pd.concat([df_v_proba, df_0],axis='index')\n",
    "        self.df_v_proba = df_v_proba\n",
    "        self.lst_models = lst_models\n",
    "    def proba(self, df_0):\n",
    "        df_X = self.preprocess(df_0)\n",
    "        for i, model in enumerate(self.lst_models):\n",
    "            arr_0 = model.predict(df_X)\n",
    "            if i==0:\n",
    "                arr_s = arr_0\n",
    "            else:\n",
    "                arr_s += arr_0\n",
    "        arr_1 = arr_s/len(self.lst_models)\n",
    "        df_1 = pd.DataFrame(arr_1, index=df_X.index)\n",
    "        return df_1\n",
    "\n",
    "# modelLGBM = ModelLGBM()\n",
    "# modelLGBM.train(df_cv_X, df_cv_y, skf)"
   ]
  },
  {
   "cell_type": "code",
   "execution_count": 27,
   "id": "77a65c68",
   "metadata": {
    "execution": {
     "iopub.execute_input": "2023-12-30T20:11:52.506778Z",
     "iopub.status.busy": "2023-12-30T20:11:52.506104Z",
     "iopub.status.idle": "2023-12-30T20:11:52.510532Z",
     "shell.execute_reply": "2023-12-30T20:11:52.509778Z"
    },
    "papermill": {
     "duration": 0.035844,
     "end_time": "2023-12-30T20:11:52.512700",
     "exception": false,
     "start_time": "2023-12-30T20:11:52.476856",
     "status": "completed"
    },
    "tags": []
   },
   "outputs": [],
   "source": [
    "# df_p0 = modelLGBM.proba(df_e_X)\n",
    "# df_t0 = df_e_y\n",
    "# print(func_logloss(df_t0, df_p0))\n",
    "# func_result(df_t0, df_p0)"
   ]
  },
  {
   "cell_type": "code",
   "execution_count": 28,
   "id": "c79a6863",
   "metadata": {
    "execution": {
     "iopub.execute_input": "2023-12-30T20:11:52.569736Z",
     "iopub.status.busy": "2023-12-30T20:11:52.569058Z",
     "iopub.status.idle": "2023-12-30T20:11:52.589533Z",
     "shell.execute_reply": "2023-12-30T20:11:52.588764Z"
    },
    "papermill": {
     "duration": 0.051763,
     "end_time": "2023-12-30T20:11:52.591802",
     "exception": false,
     "start_time": "2023-12-30T20:11:52.540039",
     "status": "completed"
    },
    "tags": []
   },
   "outputs": [],
   "source": [
    "class ModelSVC(ModelLGBM):\n",
    "    def __init__(self):\n",
    "        super().__init__()\n",
    "        self.MODEL = SVC\n",
    "    class objective:\n",
    "        def __init__(self, MODEL, X, y):\n",
    "            self.X = X\n",
    "            self.y = y\n",
    "            self.MODEL = MODEL\n",
    "        def __call__(self,trial):\n",
    "            MODEL = self.MODEL\n",
    "            df_c_X,df_v_X,df_c_y,df_v_y=train_test_split(\\\n",
    "                                                        self.X,self.y\\\n",
    "                                                         , test_size=0.2\\\n",
    "                                                         , shuffle=True\\\n",
    "                                                         , stratify=self.y\\\n",
    "                                                         , random_state=17\\\n",
    "                                                        )\n",
    "            C_ = trial.suggest_float('C',0.9,1.1)\n",
    "            gamma_ = trial.suggest_categorical('gamma',['scale','auto'])\n",
    "            tol_ = trial.suggest_float('tol',1e-4,1e-2, log=True)\n",
    "            params = {\\\n",
    "                     'C':C_\\\n",
    "                      , 'gamma':gamma_\\\n",
    "                      , 'tol':tol_\\\n",
    "                     }\n",
    "            model = self.MODEL(**params)\n",
    "            OVR = OneVsRestClassifier(model)\n",
    "            OVR.fit(df_c_X, df_c_y)\n",
    "            arr_0 = OVR.decision_function(df_v_X)\n",
    "            arr_1 = softmax(arr_0, axis=1)\n",
    "            df_0 = pd.DataFrame(arr_1, index=df_v_X.index)\n",
    "            score = func_logloss(df_v_y, df_0)\n",
    "            return score\n",
    "    def preprocess(self, df_0):\n",
    "        lst_col_cate = df_0.filter(like='cate_').columns.to_list()\n",
    "        df_1 = df_0.drop(lst_col_cate, axis='columns')\n",
    "        sclr = StandardScaler()\n",
    "        arr_1 = sclr.fit_transform(df_1)\n",
    "        df_2 = pd.DataFrame(arr_1, index=df_1.index, columns=df_1.columns)\n",
    "        return df_2\n",
    "    def train(self, df_X, df_y, skf):\n",
    "        df_cv_X = self.preprocess(df_X)\n",
    "        df_cv_y = df_y\n",
    "\n",
    "        sampler_ = optuna.samplers.TPESampler(seed=17)\n",
    "        optuna.logging.set_verbosity(optuna.logging.CRITICAL)\n",
    "        study = optuna.create_study(sampler=sampler_, direction='minimize')\n",
    "        study.optimize(self.objective(self.MODEL,df_cv_X,df_cv_y,), n_trials=100)\n",
    "        params = study.best_params\n",
    "        print(params)\n",
    "        lst_models = []\n",
    "        df_v_proba = pd.DataFrame()\n",
    "        for idx_c, idx_v in skf.split(df_cv_X, df_cv_y):\n",
    "            df_c_X = df_cv_X.iloc[idx_c]\n",
    "            df_c_y = df_cv_y.iloc[idx_c]\n",
    "            df_v_X = df_cv_X.iloc[idx_v]\n",
    "            df_v_y = df_cv_y.iloc[idx_v]\n",
    "            model = self.MODEL(**params)\n",
    "            OVR = OneVsRestClassifier(model)\n",
    "            OVR.fit(df_c_X, df_c_y)\n",
    "            lst_models.append(OVR)\n",
    "            arr_0 = OVR.decision_function(df_v_X)\n",
    "            arr_v = softmax(arr_0, axis=1)\n",
    "            df_0 = pd.DataFrame(arr_v, index=df_v_X.index)\n",
    "            df_v_proba = pd.concat([df_v_proba, df_0],axis='index')\n",
    "        self.df_v_proba = df_v_proba\n",
    "        self.lst_models = lst_models \n",
    "    def proba(self, df_0):\n",
    "        df_X = self.preprocess(df_0)\n",
    "        for i, model in enumerate(self.lst_models):\n",
    "            arr_0 = model.decision_function(df_X)\n",
    "            if i==0:\n",
    "                arr_s = arr_0\n",
    "            else:\n",
    "                arr_s += arr_0\n",
    "        arr_1 = arr_s/len(self.lst_models)\n",
    "        arr_2 = softmax(arr_1, axis=1)\n",
    "        df_1 = pd.DataFrame(arr_2, index=df_X.index)\n",
    "        return df_1\n",
    "\n",
    "# modelSVC = ModelSVC()\n",
    "# modelSVC.train(df_cv_X, df_cv_y, skf)"
   ]
  },
  {
   "cell_type": "code",
   "execution_count": 29,
   "id": "df4d52b6",
   "metadata": {
    "execution": {
     "iopub.execute_input": "2023-12-30T20:11:52.649562Z",
     "iopub.status.busy": "2023-12-30T20:11:52.648914Z",
     "iopub.status.idle": "2023-12-30T20:11:52.653404Z",
     "shell.execute_reply": "2023-12-30T20:11:52.652531Z"
    },
    "papermill": {
     "duration": 0.035675,
     "end_time": "2023-12-30T20:11:52.655544",
     "exception": false,
     "start_time": "2023-12-30T20:11:52.619869",
     "status": "completed"
    },
    "tags": []
   },
   "outputs": [],
   "source": [
    "# df_p0 = modelSVC.proba(df_e_X)\n",
    "# df_t0 = df_e_y\n",
    "# print(func_logloss(df_t0, df_p0))\n",
    "# func_result(df_t0, df_p0)"
   ]
  },
  {
   "cell_type": "code",
   "execution_count": 30,
   "id": "46ae8720",
   "metadata": {
    "execution": {
     "iopub.execute_input": "2023-12-30T20:11:52.713378Z",
     "iopub.status.busy": "2023-12-30T20:11:52.712677Z",
     "iopub.status.idle": "2023-12-30T20:11:52.733329Z",
     "shell.execute_reply": "2023-12-30T20:11:52.732412Z"
    },
    "papermill": {
     "duration": 0.052022,
     "end_time": "2023-12-30T20:11:52.735711",
     "exception": false,
     "start_time": "2023-12-30T20:11:52.683689",
     "status": "completed"
    },
    "tags": []
   },
   "outputs": [],
   "source": [
    "class ModelSVC2(ModelLGBM):\n",
    "    def __init__(self):\n",
    "        super().__init__()\n",
    "        self.MODEL = SVC\n",
    "    class objective:\n",
    "        def __init__(self, MODEL, X, y):\n",
    "            self.X = X\n",
    "            self.y = y\n",
    "            self.MODEL = MODEL\n",
    "        def __call__(self,trial):\n",
    "            MODEL = self.MODEL\n",
    "            df_c_X,df_v_X,df_c_y,df_v_y=train_test_split(\\\n",
    "                                                        self.X,self.y\\\n",
    "                                                         , test_size=0.2\\\n",
    "                                                         , shuffle=True\\\n",
    "                                                         , stratify=self.y\\\n",
    "                                                         , random_state=17\\\n",
    "                                                        )\n",
    "            C_ = trial.suggest_float('C',0.9,1.1)\n",
    "            gamma_ = trial.suggest_categorical('gamma',['scale','auto'])\n",
    "            tol_ = trial.suggest_float('tol',1e-4,1e-2, log=True)\n",
    "            params = {\\\n",
    "                     'C':C_\\\n",
    "                      , 'gamma':gamma_\\\n",
    "                      , 'tol':tol_\\\n",
    "                     }\n",
    "            model = self.MODEL(**params)\n",
    "            OVO = OneVsOneClassifier(model)\n",
    "            OVO.fit(df_c_X, df_c_y)\n",
    "            arr_0 = OVO.decision_function(df_v_X)\n",
    "            arr_1 = softmax(arr_0, axis=1)\n",
    "            df_0 = pd.DataFrame(arr_1, index=df_v_X.index)\n",
    "            score = func_logloss(df_v_y, df_0)\n",
    "            return score\n",
    "    def preprocess(self, df_0):\n",
    "        lst_col_cate = df_0.filter(like='cate_').columns.to_list()\n",
    "        df_1 = df_0.drop(lst_col_cate, axis='columns')\n",
    "        sclr = StandardScaler()\n",
    "        arr_1 = sclr.fit_transform(df_1)\n",
    "        df_2 = pd.DataFrame(arr_1, index=df_1.index, columns=df_1.columns)\n",
    "        return df_2\n",
    "    def train(self, df_X, df_y, skf):\n",
    "        df_cv_X = self.preprocess(df_X)\n",
    "        df_cv_y = df_y\n",
    "\n",
    "        sampler_ = optuna.samplers.TPESampler(seed=17)\n",
    "        optuna.logging.set_verbosity(optuna.logging.CRITICAL)\n",
    "        study = optuna.create_study(sampler=sampler_, direction='minimize')\n",
    "        study.optimize(self.objective(self.MODEL,df_cv_X,df_cv_y,), n_trials=100)\n",
    "        params = study.best_params\n",
    "        print(params)\n",
    "        lst_models = []\n",
    "        df_v_proba = pd.DataFrame()\n",
    "        for idx_c, idx_v in skf.split(df_cv_X, df_cv_y):\n",
    "            df_c_X = df_cv_X.iloc[idx_c]\n",
    "            df_c_y = df_cv_y.iloc[idx_c]\n",
    "            df_v_X = df_cv_X.iloc[idx_v]\n",
    "            df_v_y = df_cv_y.iloc[idx_v]\n",
    "            model = self.MODEL(**params)\n",
    "            OVO = OneVsRestClassifier(model)\n",
    "            OVO.fit(df_c_X, df_c_y)\n",
    "            lst_models.append(OVO)\n",
    "            arr_0 = OVO.decision_function(df_v_X)\n",
    "            arr_v = softmax(arr_0, axis=1)\n",
    "            df_0 = pd.DataFrame(arr_v, index=df_v_X.index)\n",
    "            df_v_proba = pd.concat([df_v_proba, df_0],axis='index')\n",
    "        self.df_v_proba = df_v_proba\n",
    "        self.lst_models = lst_models \n",
    "    def proba(self, df_0):\n",
    "        df_X = self.preprocess(df_0)\n",
    "        for i, model in enumerate(self.lst_models):\n",
    "            arr_0 = model.decision_function(df_X)\n",
    "            if i==0:\n",
    "                arr_s = arr_0\n",
    "            else:\n",
    "                arr_s += arr_0\n",
    "        arr_1 = arr_s/len(self.lst_models)\n",
    "        arr_2 = softmax(arr_1, axis=1)\n",
    "        df_1 = pd.DataFrame(arr_2, index=df_X.index)\n",
    "        return df_1\n",
    "\n",
    "# modelSVC2 = ModelSVC2()\n",
    "# modelSVC2.train(df_cv_X, df_cv_y, skf)"
   ]
  },
  {
   "cell_type": "code",
   "execution_count": 31,
   "id": "df9854bb",
   "metadata": {
    "execution": {
     "iopub.execute_input": "2023-12-30T20:11:52.793002Z",
     "iopub.status.busy": "2023-12-30T20:11:52.792310Z",
     "iopub.status.idle": "2023-12-30T20:11:52.796805Z",
     "shell.execute_reply": "2023-12-30T20:11:52.796033Z"
    },
    "papermill": {
     "duration": 0.035782,
     "end_time": "2023-12-30T20:11:52.798982",
     "exception": false,
     "start_time": "2023-12-30T20:11:52.763200",
     "status": "completed"
    },
    "tags": []
   },
   "outputs": [],
   "source": [
    "# df_p0 = modelSVC2.proba(df_e_X)\n",
    "# df_t0 = df_e_y\n",
    "# print(func_logloss(df_t0, df_p0))\n",
    "# func_result(df_t0, df_p0)"
   ]
  },
  {
   "cell_type": "code",
   "execution_count": 32,
   "id": "c395f6be",
   "metadata": {
    "execution": {
     "iopub.execute_input": "2023-12-30T20:11:52.856368Z",
     "iopub.status.busy": "2023-12-30T20:11:52.855683Z",
     "iopub.status.idle": "2023-12-30T20:11:52.867062Z",
     "shell.execute_reply": "2023-12-30T20:11:52.866267Z"
    },
    "papermill": {
     "duration": 0.042705,
     "end_time": "2023-12-30T20:11:52.869315",
     "exception": false,
     "start_time": "2023-12-30T20:11:52.826610",
     "status": "completed"
    },
    "tags": []
   },
   "outputs": [],
   "source": [
    "class ModelSGD(ModelSVC):\n",
    "    def __init__(self):\n",
    "        super().__init__()\n",
    "        self.MODEL = SGD\n",
    "    class objective:\n",
    "        def __init__(self, MODEL, X, y):\n",
    "            self.X = X\n",
    "            self.y = y\n",
    "            self.MODEL = MODEL\n",
    "        def __call__(self,trial):\n",
    "            df_c_X,df_v_X,df_c_y,df_v_y=train_test_split(\\\n",
    "                                                        self.X,self.y\\\n",
    "                                                         , test_size=0.2\\\n",
    "                                                         , shuffle=True\\\n",
    "                                                         , stratify=self.y\\\n",
    "                                                         , random_state=17\\\n",
    "                                                        )\n",
    "            loss_ = trial.suggest_categorical('loss',[\\\n",
    "                                                      'hinge'\\\n",
    "                                                      ,'log_loss'\\\n",
    "                                                      ,'modified_huber'\\\n",
    "                                                      ,'squared_hinge'\\\n",
    "                                                      ,'perceptron'\\\n",
    "                                                      ,'squared_error'\\\n",
    "                                                      ,'huber'\\\n",
    "                                                      ,'epsilon_insensitive'\\\n",
    "                                                      ,'squared_epsilon_insensitive'])\n",
    "            penalty_ = trial.suggest_categorical('penalty',['l2','l1'])\n",
    "            alpha_ = trial.suggest_float('alpha',1e-5,1e-3,log=True)\n",
    "            params = {\\\n",
    "                     'loss':loss_\\\n",
    "                      , 'penalty':penalty_\\\n",
    "                      , 'alpha':alpha_\\\n",
    "                     }\n",
    "            model = self.MODEL(**params)\n",
    "            OVR = OneVsRestClassifier(model)\n",
    "            OVR.fit(df_c_X, df_c_y)\n",
    "            arr_0 = OVR.decision_function(df_v_X)\n",
    "            arr_1 = softmax(arr_0, axis=1)\n",
    "            df_0 = pd.DataFrame(arr_1, index=df_v_X.index)\n",
    "            score = func_logloss(df_v_y, df_0)\n",
    "            return score\n",
    "\n",
    "# modelSGD = ModelSGD()\n",
    "# modelSGD.train(df_cv_X, df_cv_y, skf)"
   ]
  },
  {
   "cell_type": "code",
   "execution_count": 33,
   "id": "ad135599",
   "metadata": {
    "execution": {
     "iopub.execute_input": "2023-12-30T20:11:52.926512Z",
     "iopub.status.busy": "2023-12-30T20:11:52.925841Z",
     "iopub.status.idle": "2023-12-30T20:11:52.930523Z",
     "shell.execute_reply": "2023-12-30T20:11:52.929458Z"
    },
    "papermill": {
     "duration": 0.036033,
     "end_time": "2023-12-30T20:11:52.932848",
     "exception": false,
     "start_time": "2023-12-30T20:11:52.896815",
     "status": "completed"
    },
    "tags": []
   },
   "outputs": [],
   "source": [
    "# df_p0 = modelSGD.proba(df_e_X)\n",
    "# df_t0 = df_e_y\n",
    "# print(func_logloss(df_t0, df_p0))\n",
    "# func_result(df_t0, df_p0)"
   ]
  },
  {
   "cell_type": "code",
   "execution_count": 34,
   "id": "e779cf26",
   "metadata": {
    "execution": {
     "iopub.execute_input": "2023-12-30T20:11:52.990124Z",
     "iopub.status.busy": "2023-12-30T20:11:52.989693Z",
     "iopub.status.idle": "2023-12-30T20:11:53.009043Z",
     "shell.execute_reply": "2023-12-30T20:11:53.007987Z"
    },
    "papermill": {
     "duration": 0.051654,
     "end_time": "2023-12-30T20:11:53.011909",
     "exception": false,
     "start_time": "2023-12-30T20:11:52.960255",
     "status": "completed"
    },
    "tags": []
   },
   "outputs": [],
   "source": [
    "class ModelDTC(ModelSVC):\n",
    "    def __init__(self):\n",
    "        super().__init__()\n",
    "        self.MODEL = DTC\n",
    "    class objective:\n",
    "        def __init__(self, MODEL, X, y):\n",
    "            self.X = X\n",
    "            self.y = y\n",
    "            self.MODEL = MODEL\n",
    "        def __call__(self,trial):\n",
    "            df_c_X,df_v_X,df_c_y,df_v_y=train_test_split(\\\n",
    "                                                        self.X,self.y\\\n",
    "                                                         , test_size=0.2\\\n",
    "                                                         , shuffle=True\\\n",
    "                                                         , stratify=self.y\\\n",
    "                                                         , random_state=17\\\n",
    "                                                        )\n",
    "            criterion_ = trial.suggest_categorical('criterion',[\\\n",
    "                                                      'gini'\\\n",
    "                                                      ,'entropy'\\\n",
    "                                                      ,'log_loss'\\\n",
    "                                                      ])\n",
    "            max_depth_ = trial.suggest_int('max_depth',2,9)\n",
    "            random_state_ = trial.suggest_int('random_state',0,11)\n",
    "            params = {\\\n",
    "                     'criterion':criterion_\\\n",
    "                      , 'max_depth':max_depth_\\\n",
    "                      , 'random_state':random_state_\\\n",
    "                     }\n",
    "            model = self.MODEL(**params)\n",
    "            OVR = OneVsRestClassifier(model)\n",
    "            OVR.fit(df_c_X, df_c_y)\n",
    "            arr_0 = OVR.predict_proba(df_v_X)\n",
    "            arr_1 = softmax(arr_0, axis=1)\n",
    "            df_0 = pd.DataFrame(arr_1, index=df_v_X.index)\n",
    "            score = func_logloss(df_v_y, df_0)\n",
    "            return score\n",
    "    def train(self, df_X, df_y, skf):\n",
    "        df_cv_X = self.preprocess(df_X)\n",
    "        df_cv_y = df_y\n",
    "\n",
    "        sampler_ = optuna.samplers.TPESampler(seed=17)\n",
    "        optuna.logging.set_verbosity(optuna.logging.CRITICAL)\n",
    "        study = optuna.create_study(sampler=sampler_, direction='minimize')\n",
    "        study.optimize(self.objective(self.MODEL,df_cv_X,df_cv_y,), n_trials=100)\n",
    "        params = study.best_params\n",
    "        print(params)\n",
    "        lst_models = []\n",
    "        df_v_proba = pd.DataFrame()\n",
    "        for idx_c, idx_v in skf.split(df_cv_X, df_cv_y):\n",
    "            df_c_X = df_cv_X.iloc[idx_c]\n",
    "            df_c_y = df_cv_y.iloc[idx_c]\n",
    "            df_v_X = df_cv_X.iloc[idx_v]\n",
    "            df_v_y = df_cv_y.iloc[idx_v]\n",
    "            model = self.MODEL(**params)\n",
    "            OVR = OneVsRestClassifier(model)\n",
    "            OVR.fit(df_c_X, df_c_y)\n",
    "            lst_models.append(OVR)\n",
    "            arr_0 = OVR.predict_proba(df_v_X)\n",
    "            arr_v = softmax(arr_0, axis=1)\n",
    "            df_0 = pd.DataFrame(arr_v, index=df_v_X.index)\n",
    "            df_v_proba = pd.concat([df_v_proba, df_0],axis='index')\n",
    "        self.df_v_proba = df_v_proba\n",
    "        self.lst_models = lst_models \n",
    "    def proba(self, df_0):\n",
    "        df_X = self.preprocess(df_0)\n",
    "        for i, model in enumerate(self.lst_models):\n",
    "            arr_0 = model.predict_proba(df_X)\n",
    "            if i==0:\n",
    "                arr_s = arr_0\n",
    "            else:\n",
    "                arr_s += arr_0\n",
    "        arr_1 = arr_s/len(self.lst_models)\n",
    "        arr_2 = softmax(arr_1, axis=1)\n",
    "        df_1 = pd.DataFrame(arr_2, index=df_X.index)\n",
    "        return df_1\n",
    "# modelDTC = ModelDTC()\n",
    "# modelDTC.train(df_cv_X, df_cv_y, skf)"
   ]
  },
  {
   "cell_type": "code",
   "execution_count": 35,
   "id": "cfd1fe5e",
   "metadata": {
    "execution": {
     "iopub.execute_input": "2023-12-30T20:11:53.069226Z",
     "iopub.status.busy": "2023-12-30T20:11:53.068820Z",
     "iopub.status.idle": "2023-12-30T20:11:53.074485Z",
     "shell.execute_reply": "2023-12-30T20:11:53.073634Z"
    },
    "papermill": {
     "duration": 0.037095,
     "end_time": "2023-12-30T20:11:53.076834",
     "exception": false,
     "start_time": "2023-12-30T20:11:53.039739",
     "status": "completed"
    },
    "tags": []
   },
   "outputs": [],
   "source": [
    "# df_p0 = modelDTC.proba(df_e_X)\n",
    "# df_t0 = df_e_y\n",
    "# print(func_logloss(df_t0, df_p0))\n",
    "# func_result(df_t0, df_p0)"
   ]
  },
  {
   "cell_type": "code",
   "execution_count": 36,
   "id": "ceb74ce4",
   "metadata": {
    "execution": {
     "iopub.execute_input": "2023-12-30T20:11:53.134089Z",
     "iopub.status.busy": "2023-12-30T20:11:53.133665Z",
     "iopub.status.idle": "2023-12-30T20:11:53.142076Z",
     "shell.execute_reply": "2023-12-30T20:11:53.141042Z"
    },
    "papermill": {
     "duration": 0.040053,
     "end_time": "2023-12-30T20:11:53.144473",
     "exception": false,
     "start_time": "2023-12-30T20:11:53.104420",
     "status": "completed"
    },
    "tags": []
   },
   "outputs": [],
   "source": [
    "def NN_MODEL(shape_,dense0_,dense1_,dense2_,dense3_,dense4_,dout0_,dout1_):\n",
    "    model = keras.Sequential()\n",
    "    model.add(layers.Input(shape=shape_))\n",
    "    model.add(layers.Dense(dense0_, activation='relu'))\n",
    "    model.add(layers.Dense(dense1_, activation='relu'))\n",
    "    model.add(layers.Dropout(dout0_))\n",
    "    model.add(layers.Dense(dense2_, activation='relu'))\n",
    "    model.add(layers.Dense(dense3_, activation='relu'))\n",
    "    model.add(layers.Dense(dense4_, activation='relu'))\n",
    "    model.add(layers.Dropout(dout1_))\n",
    "    model.add(layers.Dense(3, activation='softmax'))\n",
    "\n",
    "    model.compile(\\\n",
    "         optimizer='adam'\\\n",
    "          , loss=keras.losses.SparseCategoricalCrossentropy()\\\n",
    "          , metrics=['accuracy']\n",
    "         )\n",
    "    return model"
   ]
  },
  {
   "cell_type": "code",
   "execution_count": 37,
   "id": "841fcd65",
   "metadata": {
    "execution": {
     "iopub.execute_input": "2023-12-30T20:11:53.201667Z",
     "iopub.status.busy": "2023-12-30T20:11:53.201281Z",
     "iopub.status.idle": "2023-12-30T20:11:53.225117Z",
     "shell.execute_reply": "2023-12-30T20:11:53.224067Z"
    },
    "papermill": {
     "duration": 0.055691,
     "end_time": "2023-12-30T20:11:53.227779",
     "exception": false,
     "start_time": "2023-12-30T20:11:53.172088",
     "status": "completed"
    },
    "tags": []
   },
   "outputs": [],
   "source": [
    "class ModelTF():\n",
    "    def __init__(self):\n",
    "        pass\n",
    "#         super().__init__()\n",
    "#         self.MODEL = keras.Sequential()\n",
    "    def preprocess(self,df_0):\n",
    "        lst_col_cate = df_0.filter(like='cate_').columns.to_list()\n",
    "        df_1 = df_0.drop(lst_col_cate, axis='columns')\n",
    "        sclr = StandardScaler()\n",
    "        arr_1 = sclr.fit_transform(df_1)\n",
    "        df_2 = pd.DataFrame(arr_1, index=df_1.index, columns=df_1.columns)\n",
    "        return df_2\n",
    "    class objective:\n",
    "        def __init__(self, X, y):\n",
    "            self.X = X\n",
    "            self.y = y\n",
    "        def __call__(self,trial):\n",
    "            df_c_X,df_v_X,df_c_y,df_v_y=train_test_split(\\\n",
    "                                                        self.X,self.y\\\n",
    "                                                         , test_size=0.2\\\n",
    "                                                         , shuffle=True\\\n",
    "                                                         , stratify=self.y\\\n",
    "                                                         , random_state=17\\\n",
    "                                                        )\n",
    "            tf_c_X = tf.constant(df_c_X)\n",
    "            tf_c_y = tf.constant(df_c_y.to_frame())\n",
    "            tf_v_X = tf.constant(df_v_X)\n",
    "            tf_v_y = tf.constant(df_v_y.to_frame())\n",
    "            \n",
    "            shape_ = df_c_X.shape[1]\n",
    "            dense0_ = trial.suggest_int('dense0_',3,256)\n",
    "            dense1_ = trial.suggest_int('dense1_',3,256)\n",
    "            dense2_ = trial.suggest_int('dense2_',3,256)\n",
    "            dense3_ = trial.suggest_int('dense3_',3,256)\n",
    "            dense4_ = trial.suggest_int('dense4_',3,256)\n",
    "            dout0_ = trial.suggest_float('dout0_',0.1,0.5)\n",
    "            dout1_ = trial.suggest_float('dout1_',0.1,0.5)\n",
    "            \n",
    "            params = {\\\n",
    "                     'shape_':shape_\\\n",
    "                     , 'dense0_':dense0_\\\n",
    "                     , 'dense1_':dense1_\\\n",
    "                     , 'dense2_':dense2_\\\n",
    "                     , 'dense3_':dense3_\\\n",
    "                     , 'dense4_':dense4_\\\n",
    "                     , 'dout0_':dout0_\\\n",
    "                     , 'dout1_':dout1_\\\n",
    "                     }\n",
    "            model = NN_MODEL(**params)\n",
    "            model.fit(tf_c_X, tf_c_y)\n",
    "            arr_0 = model.predict(tf_v_X)\n",
    "            arr_1 = softmax(arr_0, axis=1)\n",
    "            df_0 = pd.DataFrame(arr_1, index=df_v_X.index)\n",
    "            score = func_logloss(df_v_y, df_0)\n",
    "            return score\n",
    "    def train(self, df_X, df_y, skf):\n",
    "        df_cv_X = self.preprocess(df_X)\n",
    "        df_cv_y = df_y\n",
    "\n",
    "        sampler_ = optuna.samplers.TPESampler(seed=17)\n",
    "        optuna.logging.set_verbosity(optuna.logging.CRITICAL)\n",
    "        study = optuna.create_study(sampler=sampler_, direction='minimize')\n",
    "        study.optimize(self.objective(df_cv_X,df_cv_y), n_trials=100)\n",
    "        params = {'shape_':df_cv_X.shape[1]}\n",
    "        params.update(study.best_params)\n",
    "        print(params)\n",
    "        model = NN_MODEL(**params)\n",
    "        lst_models = []\n",
    "        df_v_proba = pd.DataFrame()\n",
    "        for idx_c, idx_v in skf.split(df_cv_X, df_cv_y):\n",
    "            df_c_X = df_cv_X.iloc[idx_c]\n",
    "            df_c_y = df_cv_y.iloc[idx_c]\n",
    "            df_v_X = df_cv_X.iloc[idx_v]\n",
    "            df_v_y = df_cv_y.iloc[idx_v]\n",
    "\n",
    "            model.fit(df_c_X, df_c_y)\n",
    "            lst_models.append(model)\n",
    "            arr_0 = model.predict(df_v_X)\n",
    "            arr_v = softmax(arr_0, axis=1)\n",
    "            df_0 = pd.DataFrame(arr_v, index=df_v_X.index)\n",
    "            df_v_proba = pd.concat([df_v_proba, df_0],axis='index')\n",
    "        self.df_v_proba = df_v_proba\n",
    "        self.lst_models = lst_models \n",
    "    def proba(self, df_0):\n",
    "        df_X = self.preprocess(df_0)\n",
    "        for i, model in enumerate(self.lst_models):\n",
    "            arr_0 = model.predict(df_X)\n",
    "            if i==0:\n",
    "                arr_s = arr_0\n",
    "            else:\n",
    "                arr_s += arr_0\n",
    "        arr_1 = arr_s/len(self.lst_models)\n",
    "        arr_2 = softmax(arr_1, axis=1)\n",
    "        df_1 = pd.DataFrame(arr_2, index=df_X.index)\n",
    "        return df_1\n",
    "\n",
    "# modelTF = ModelTF()\n",
    "# modelTF.train(df_cv_X, df_cv_y, skf)"
   ]
  },
  {
   "cell_type": "code",
   "execution_count": 38,
   "id": "77d4db41",
   "metadata": {
    "execution": {
     "iopub.execute_input": "2023-12-30T20:11:53.287293Z",
     "iopub.status.busy": "2023-12-30T20:11:53.286851Z",
     "iopub.status.idle": "2023-12-30T20:11:53.291377Z",
     "shell.execute_reply": "2023-12-30T20:11:53.290482Z"
    },
    "papermill": {
     "duration": 0.03693,
     "end_time": "2023-12-30T20:11:53.294520",
     "exception": false,
     "start_time": "2023-12-30T20:11:53.257590",
     "status": "completed"
    },
    "tags": []
   },
   "outputs": [],
   "source": [
    "# df_p0 = modelTF.proba(df_e_X)\n",
    "# df_t0 = df_e_y\n",
    "# print(func_logloss(df_t0, df_p0))\n",
    "# func_result(df_t0, df_p0)"
   ]
  },
  {
   "cell_type": "code",
   "execution_count": 39,
   "id": "efeff6be",
   "metadata": {
    "execution": {
     "iopub.execute_input": "2023-12-30T20:11:53.352363Z",
     "iopub.status.busy": "2023-12-30T20:11:53.351985Z",
     "iopub.status.idle": "2023-12-30T20:11:53.611012Z",
     "shell.execute_reply": "2023-12-30T20:11:53.609729Z"
    },
    "papermill": {
     "duration": 0.291092,
     "end_time": "2023-12-30T20:11:53.613535",
     "exception": false,
     "start_time": "2023-12-30T20:11:53.322443",
     "status": "completed"
    },
    "tags": []
   },
   "outputs": [
    {
     "name": "stdout",
     "output_type": "stream",
     "text": [
      "0.43435613733692746\n",
      "True     1313\n",
      "False     268\n",
      "Name: count, dtype: int64\n",
      "0.83\n"
     ]
    }
   ],
   "source": [
    "lst_model = [modelLGBM2]\n",
    "lst_str_model = ['LGBM2']\n",
    "# lst_model = [modelLGBM, modelLGBM2, modelSVC, modelSVC2, modelSGD, modelDTC]\n",
    "# lst_str_model = ['LGBM','LGBM2','SVC','SVC2','SGD','DTC']\n",
    "for model in lst_model:\n",
    "    df_p0 = model.proba(df_e_X)\n",
    "    df_t0 = df_e_y\n",
    "    score = func_logloss(df_t0, df_p0)\n",
    "    print(score)\n",
    "    func_result(df_t0, df_p0)"
   ]
  },
  {
   "cell_type": "code",
   "execution_count": 40,
   "id": "e50d026a",
   "metadata": {
    "execution": {
     "iopub.execute_input": "2023-12-30T20:11:53.671934Z",
     "iopub.status.busy": "2023-12-30T20:11:53.670828Z",
     "iopub.status.idle": "2023-12-30T20:11:53.678643Z",
     "shell.execute_reply": "2023-12-30T20:11:53.677599Z"
    },
    "papermill": {
     "duration": 0.039561,
     "end_time": "2023-12-30T20:11:53.681055",
     "exception": false,
     "start_time": "2023-12-30T20:11:53.641494",
     "status": "completed"
    },
    "tags": []
   },
   "outputs": [
    {
     "data": {
      "text/plain": [
       "Index([ 7905,  7906,  7907,  7908,  7909,  7910,  7911,  7912,  7913,  7914,\n",
       "       ...\n",
       "       13166, 13167, 13168, 13169, 13170, 13171, 13172, 13173, 13174, 13175],\n",
       "      dtype='int64', name='id', length=5271)"
      ]
     },
     "execution_count": 40,
     "metadata": {},
     "output_type": "execute_result"
    }
   ],
   "source": [
    "df_t_X.index"
   ]
  },
  {
   "cell_type": "code",
   "execution_count": 41,
   "id": "036ab949",
   "metadata": {
    "execution": {
     "iopub.execute_input": "2023-12-30T20:11:53.739028Z",
     "iopub.status.busy": "2023-12-30T20:11:53.738612Z",
     "iopub.status.idle": "2023-12-30T20:11:54.114470Z",
     "shell.execute_reply": "2023-12-30T20:11:54.113295Z"
    },
    "papermill": {
     "duration": 0.407899,
     "end_time": "2023-12-30T20:11:54.117167",
     "exception": false,
     "start_time": "2023-12-30T20:11:53.709268",
     "status": "completed"
    },
    "tags": []
   },
   "outputs": [],
   "source": [
    "def make_X_2nd(flag='v'):\n",
    "    df_X_2nd =pd.DataFrame()\n",
    "    for i, model in enumerate(lst_model):\n",
    "        if flag=='v':\n",
    "            df_0 = model.df_v_proba\n",
    "            df_0.index = model.df_v_proba.index\n",
    "        elif flag=='e':\n",
    "            df_0 = model.proba(df_e_X)\n",
    "            df_0.index = df_e_X.index\n",
    "        else:\n",
    "            df_0 = model.proba(df_t_X)\n",
    "            df_0.index = df_t_X.index\n",
    "        df_1 = df_0.add_prefix(lst_str_model[i])\n",
    "        df_X_2nd = pd.concat([df_X_2nd, df_1], axis='columns')\n",
    "    return df_X_2nd\n",
    "df_Xv = make_X_2nd('v').sort_index()\n",
    "df_Xe = make_X_2nd('e').sort_index()\n",
    "df_Xt = make_X_2nd('t').sort_index()"
   ]
  },
  {
   "cell_type": "code",
   "execution_count": 42,
   "id": "c8f8e67e",
   "metadata": {
    "execution": {
     "iopub.execute_input": "2023-12-30T20:11:54.174706Z",
     "iopub.status.busy": "2023-12-30T20:11:54.174301Z",
     "iopub.status.idle": "2023-12-30T20:11:54.187902Z",
     "shell.execute_reply": "2023-12-30T20:11:54.186861Z"
    },
    "papermill": {
     "duration": 0.04557,
     "end_time": "2023-12-30T20:11:54.190619",
     "exception": false,
     "start_time": "2023-12-30T20:11:54.145049",
     "status": "completed"
    },
    "tags": []
   },
   "outputs": [
    {
     "data": {
      "text/html": [
       "<div>\n",
       "<style scoped>\n",
       "    .dataframe tbody tr th:only-of-type {\n",
       "        vertical-align: middle;\n",
       "    }\n",
       "\n",
       "    .dataframe tbody tr th {\n",
       "        vertical-align: top;\n",
       "    }\n",
       "\n",
       "    .dataframe thead th {\n",
       "        text-align: right;\n",
       "    }\n",
       "</style>\n",
       "<table border=\"1\" class=\"dataframe\">\n",
       "  <thead>\n",
       "    <tr style=\"text-align: right;\">\n",
       "      <th></th>\n",
       "      <th>LGBM20</th>\n",
       "      <th>LGBM21</th>\n",
       "      <th>LGBM22</th>\n",
       "    </tr>\n",
       "    <tr>\n",
       "      <th>id</th>\n",
       "      <th></th>\n",
       "      <th></th>\n",
       "      <th></th>\n",
       "    </tr>\n",
       "  </thead>\n",
       "  <tbody>\n",
       "    <tr>\n",
       "      <th>7905</th>\n",
       "      <td>0.598267</td>\n",
       "      <td>0.024522</td>\n",
       "      <td>0.377210</td>\n",
       "    </tr>\n",
       "    <tr>\n",
       "      <th>7906</th>\n",
       "      <td>0.553753</td>\n",
       "      <td>0.237389</td>\n",
       "      <td>0.208858</td>\n",
       "    </tr>\n",
       "    <tr>\n",
       "      <th>7907</th>\n",
       "      <td>0.009711</td>\n",
       "      <td>0.003774</td>\n",
       "      <td>0.986515</td>\n",
       "    </tr>\n",
       "    <tr>\n",
       "      <th>7908</th>\n",
       "      <td>0.937304</td>\n",
       "      <td>0.004415</td>\n",
       "      <td>0.058281</td>\n",
       "    </tr>\n",
       "    <tr>\n",
       "      <th>7909</th>\n",
       "      <td>0.778259</td>\n",
       "      <td>0.052389</td>\n",
       "      <td>0.169352</td>\n",
       "    </tr>\n",
       "    <tr>\n",
       "      <th>...</th>\n",
       "      <td>...</td>\n",
       "      <td>...</td>\n",
       "      <td>...</td>\n",
       "    </tr>\n",
       "    <tr>\n",
       "      <th>13171</th>\n",
       "      <td>0.810478</td>\n",
       "      <td>0.154252</td>\n",
       "      <td>0.035270</td>\n",
       "    </tr>\n",
       "    <tr>\n",
       "      <th>13172</th>\n",
       "      <td>0.972027</td>\n",
       "      <td>0.002369</td>\n",
       "      <td>0.025604</td>\n",
       "    </tr>\n",
       "    <tr>\n",
       "      <th>13173</th>\n",
       "      <td>0.858242</td>\n",
       "      <td>0.009933</td>\n",
       "      <td>0.131825</td>\n",
       "    </tr>\n",
       "    <tr>\n",
       "      <th>13174</th>\n",
       "      <td>0.993032</td>\n",
       "      <td>0.001501</td>\n",
       "      <td>0.005468</td>\n",
       "    </tr>\n",
       "    <tr>\n",
       "      <th>13175</th>\n",
       "      <td>0.280829</td>\n",
       "      <td>0.009279</td>\n",
       "      <td>0.709892</td>\n",
       "    </tr>\n",
       "  </tbody>\n",
       "</table>\n",
       "<p>5271 rows × 3 columns</p>\n",
       "</div>"
      ],
      "text/plain": [
       "         LGBM20    LGBM21    LGBM22\n",
       "id                                 \n",
       "7905   0.598267  0.024522  0.377210\n",
       "7906   0.553753  0.237389  0.208858\n",
       "7907   0.009711  0.003774  0.986515\n",
       "7908   0.937304  0.004415  0.058281\n",
       "7909   0.778259  0.052389  0.169352\n",
       "...         ...       ...       ...\n",
       "13171  0.810478  0.154252  0.035270\n",
       "13172  0.972027  0.002369  0.025604\n",
       "13173  0.858242  0.009933  0.131825\n",
       "13174  0.993032  0.001501  0.005468\n",
       "13175  0.280829  0.009279  0.709892\n",
       "\n",
       "[5271 rows x 3 columns]"
      ]
     },
     "execution_count": 42,
     "metadata": {},
     "output_type": "execute_result"
    }
   ],
   "source": [
    "df_Xt"
   ]
  },
  {
   "cell_type": "code",
   "execution_count": 43,
   "id": "c7c43483",
   "metadata": {
    "execution": {
     "iopub.execute_input": "2023-12-30T20:11:54.249685Z",
     "iopub.status.busy": "2023-12-30T20:11:54.249292Z",
     "iopub.status.idle": "2023-12-30T20:11:54.255606Z",
     "shell.execute_reply": "2023-12-30T20:11:54.254783Z"
    },
    "papermill": {
     "duration": 0.039489,
     "end_time": "2023-12-30T20:11:54.257868",
     "exception": false,
     "start_time": "2023-12-30T20:11:54.218379",
     "status": "completed"
    },
    "tags": []
   },
   "outputs": [],
   "source": [
    "df_yv = df_cv_y.sort_index()\n",
    "df_ye = df_e_y.sort_index()"
   ]
  },
  {
   "cell_type": "code",
   "execution_count": 44,
   "id": "0d86334b",
   "metadata": {
    "execution": {
     "iopub.execute_input": "2023-12-30T20:11:54.316456Z",
     "iopub.status.busy": "2023-12-30T20:11:54.316081Z",
     "iopub.status.idle": "2023-12-30T20:11:54.327692Z",
     "shell.execute_reply": "2023-12-30T20:11:54.326713Z"
    },
    "papermill": {
     "duration": 0.043883,
     "end_time": "2023-12-30T20:11:54.330299",
     "exception": false,
     "start_time": "2023-12-30T20:11:54.286416",
     "status": "completed"
    },
    "tags": []
   },
   "outputs": [],
   "source": [
    "dfcvX,dfeX,dfcvy,dfey = train_test_split(df_Xv,df_yv\\\n",
    "                                        , test_size=0.2\\\n",
    "                                        , shuffle=True\\\n",
    "                                        , stratify=df_yv\\\n",
    "                                        , random_state=17)\n",
    "skf = StratifiedKFold(n_splits=4,shuffle=True,random_state=17)"
   ]
  },
  {
   "cell_type": "code",
   "execution_count": 45,
   "id": "1f744d86",
   "metadata": {
    "execution": {
     "iopub.execute_input": "2023-12-30T20:11:54.389471Z",
     "iopub.status.busy": "2023-12-30T20:11:54.389074Z",
     "iopub.status.idle": "2023-12-30T20:12:40.146526Z",
     "shell.execute_reply": "2023-12-30T20:12:40.145332Z"
    },
    "papermill": {
     "duration": 45.790127,
     "end_time": "2023-12-30T20:12:40.149189",
     "exception": false,
     "start_time": "2023-12-30T20:11:54.359062",
     "status": "completed"
    },
    "tags": []
   },
   "outputs": [
    {
     "name": "stdout",
     "output_type": "stream",
     "text": [
      "{'objective': 'multiclass', 'num_class': 3, 'verbosity': -1, 'metric': 'multi_logloss', 'max_depth': 3, 'learning_rate': 0.08585796138534992, 'num_leaves': 20}\n"
     ]
    }
   ],
   "source": [
    "modelLGBM2nd = ModelLGBM()\n",
    "modelLGBM2nd.train(dfcvX,dfcvy, skf)"
   ]
  },
  {
   "cell_type": "code",
   "execution_count": 46,
   "id": "afa0efcd",
   "metadata": {
    "execution": {
     "iopub.execute_input": "2023-12-30T20:12:40.207946Z",
     "iopub.status.busy": "2023-12-30T20:12:40.207528Z",
     "iopub.status.idle": "2023-12-30T20:12:40.250807Z",
     "shell.execute_reply": "2023-12-30T20:12:40.249735Z"
    },
    "papermill": {
     "duration": 0.075734,
     "end_time": "2023-12-30T20:12:40.253244",
     "exception": false,
     "start_time": "2023-12-30T20:12:40.177510",
     "status": "completed"
    },
    "tags": []
   },
   "outputs": [
    {
     "data": {
      "text/plain": [
       "0.4515460570594575"
      ]
     },
     "execution_count": 46,
     "metadata": {},
     "output_type": "execute_result"
    }
   ],
   "source": [
    "df_p0 = modelLGBM2nd.proba(df_Xe)\n",
    "df_t0 = df_ye\n",
    "func_logloss(df_t0,df_p0)"
   ]
  },
  {
   "cell_type": "code",
   "execution_count": 47,
   "id": "c8fe0773",
   "metadata": {
    "execution": {
     "iopub.execute_input": "2023-12-30T20:12:40.312416Z",
     "iopub.status.busy": "2023-12-30T20:12:40.312006Z",
     "iopub.status.idle": "2023-12-30T20:12:40.477123Z",
     "shell.execute_reply": "2023-12-30T20:12:40.476136Z"
    },
    "papermill": {
     "duration": 0.197594,
     "end_time": "2023-12-30T20:12:40.479476",
     "exception": false,
     "start_time": "2023-12-30T20:12:40.281882",
     "status": "completed"
    },
    "tags": []
   },
   "outputs": [
    {
     "name": "stdout",
     "output_type": "stream",
     "text": [
      "True     1311\n",
      "False     270\n",
      "Name: count, dtype: int64\n",
      "0.829\n"
     ]
    }
   ],
   "source": [
    "func_result(df_t0, df_p0)"
   ]
  },
  {
   "cell_type": "code",
   "execution_count": 48,
   "id": "50705b8c",
   "metadata": {
    "execution": {
     "iopub.execute_input": "2023-12-30T20:12:40.538812Z",
     "iopub.status.busy": "2023-12-30T20:12:40.538419Z",
     "iopub.status.idle": "2023-12-30T20:12:40.543024Z",
     "shell.execute_reply": "2023-12-30T20:12:40.542035Z"
    },
    "papermill": {
     "duration": 0.036425,
     "end_time": "2023-12-30T20:12:40.545259",
     "exception": false,
     "start_time": "2023-12-30T20:12:40.508834",
     "status": "completed"
    },
    "tags": []
   },
   "outputs": [],
   "source": [
    "# df_0 = modelLGBM2nd.proba(df_Xt)\n",
    "# df_0.columns = ['Status_C','Status_CL','Status_D']\n",
    "# df_submit = df_0.reset_index(drop=False)\n",
    "# df_submit\n",
    "# df_submit.to_csv('submission.csv',index=None)"
   ]
  }
 ],
 "metadata": {
  "kaggle": {
   "accelerator": "none",
   "dataSources": [
    {
     "databundleVersionId": 7000181,
     "sourceId": 60893,
     "sourceType": "competition"
    }
   ],
   "dockerImageVersionId": 30626,
   "isGpuEnabled": false,
   "isInternetEnabled": false,
   "language": "python",
   "sourceType": "notebook"
  },
  "kernelspec": {
   "display_name": "Python 3",
   "language": "python",
   "name": "python3"
  },
  "language_info": {
   "codemirror_mode": {
    "name": "ipython",
    "version": 3
   },
   "file_extension": ".py",
   "mimetype": "text/x-python",
   "name": "python",
   "nbconvert_exporter": "python",
   "pygments_lexer": "ipython3",
   "version": "3.10.12"
  },
  "papermill": {
   "default_parameters": {},
   "duration": 301.629474,
   "end_time": "2023-12-30T20:12:43.253207",
   "environment_variables": {},
   "exception": null,
   "input_path": "__notebook__.ipynb",
   "output_path": "__notebook__.ipynb",
   "parameters": {},
   "start_time": "2023-12-30T20:07:41.623733",
   "version": "2.4.0"
  }
 },
 "nbformat": 4,
 "nbformat_minor": 5
}
